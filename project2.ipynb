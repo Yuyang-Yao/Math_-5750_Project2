{
  "nbformat": 4,
  "nbformat_minor": 0,
  "metadata": {
    "colab": {
      "provenance": []
    },
    "kernelspec": {
      "name": "python3",
      "display_name": "Python 3"
    },
    "language_info": {
      "name": "python"
    }
  },
  "cells": [
    {
      "cell_type": "markdown",
      "source": [
        "Math 5750/6880: Mathematics of Data Science \\\n",
        "Project 2"
      ],
      "metadata": {
        "id": "0gdC70xxFyc4"
      }
    },
    {
      "cell_type": "markdown",
      "source": [
        "# 1. Clustering Gaussian Blobs using $k$-means"
      ],
      "metadata": {
        "id": "i9_7SnpMGKDJ"
      }
    },
    {
      "cell_type": "code",
      "source": [
        "# imports and setup\n",
        "import matplotlib.pyplot as plt\n",
        "\n",
        "from sklearn.metrics import confusion_matrix # for Q1 classification like mission\n",
        "\n",
        "import pandas as pd\n",
        "import numpy as np\n",
        "\n",
        "from sklearn.cluster import KMeans, AgglomerativeClustering\n",
        "\n",
        "from sklearn import tree, svm, metrics\n",
        "from sklearn.neighbors import KNeighborsClassifier\n",
        "from sklearn.model_selection import train_test_split, cross_val_predict, cross_val_score, KFold\n",
        "from sklearn.datasets import load_digits\n",
        "from sklearn.preprocessing import scale\n",
        "from sklearn.datasets import fetch_20newsgroups\n",
        "from sklearn.metrics import accuracy_score\n",
        "from sklearn.feature_extraction.text import TfidfVectorizer\n",
        "from sklearn.feature_extraction.text import CountVectorizer\n",
        "from sklearn.naive_bayes import MultinomialNB\n",
        "\n",
        "from sklearn.cluster import DBSCAN\n",
        "\n",
        "from sklearn.decomposition import PCA\n",
        "\n",
        "import nltk\n",
        "from nltk.corpus import stopwords\n",
        "\n",
        "import re\n",
        "\n",
        "import seaborn as sns"
      ],
      "metadata": {
        "id": "PV2AncxTRjgb"
      },
      "execution_count": 2,
      "outputs": []
    },
    {
      "cell_type": "code",
      "source": [
        "\n",
        "from sklearn.datasets import make_blobs\n",
        "from sklearn.preprocessing import StandardScaler\n",
        "\n",
        "# Generate 5 Gaussian blobs in 10 dimensions\n",
        "X, y_true = make_blobs(\n",
        "    n_samples=1000,\n",
        "    centers=5,\n",
        "    n_features=10,\n",
        "    cluster_std=1.5,\n",
        "    random_state=1)        # reproducibility\n",
        "X = StandardScaler().fit_transform(X)\n",
        "\n",
        "print(type(X),X.shape)\n",
        "print(type(y_true),y_true.shape)"
      ],
      "metadata": {
        "colab": {
          "base_uri": "https://localhost:8080/"
        },
        "id": "AB136H0PGKq1",
        "outputId": "edb8d8cb-092d-4d26-e30b-773a382d37b0"
      },
      "execution_count": 3,
      "outputs": [
        {
          "output_type": "stream",
          "name": "stdout",
          "text": [
            "<class 'numpy.ndarray'> (1000, 10)\n",
            "<class 'numpy.ndarray'> (1000,)\n"
          ]
        }
      ]
    },
    {
      "cell_type": "code",
      "source": [
        "X"
      ],
      "metadata": {
        "colab": {
          "base_uri": "https://localhost:8080/"
        },
        "id": "4uVru2q3YY2S",
        "outputId": "ea336644-14d1-406f-e3bb-44724899f604"
      },
      "execution_count": 4,
      "outputs": [
        {
          "output_type": "execute_result",
          "data": {
            "text/plain": [
              "array([[-0.3037564 ,  0.27194296, -1.2984626 , ..., -0.22927702,\n",
              "         0.60290063,  0.2063805 ],\n",
              "       [-0.20053269, -0.30437116, -0.97295527, ..., -0.12643629,\n",
              "         1.27256776, -0.06419889],\n",
              "       [ 1.35097255,  0.93048323, -0.43242865, ..., -0.45356427,\n",
              "         1.06455736, -1.02736984],\n",
              "       ...,\n",
              "       [-1.45953712, -1.64844822,  1.8947674 , ...,  1.30241496,\n",
              "        -1.92201715,  0.78623258],\n",
              "       [-0.5009657 ,  0.16483753, -1.07666519, ..., -0.55959232,\n",
              "         1.78642312,  0.35648516],\n",
              "       [ 0.71776702,  1.26195986, -0.0965376 , ..., -1.2768736 ,\n",
              "        -0.5557099 ,  1.08032666]])"
            ]
          },
          "metadata": {},
          "execution_count": 4
        }
      ]
    },
    {
      "cell_type": "code",
      "source": [
        "y_true\n",
        "#(1) Yes, y_true is the ground truth cluster label in make-blobs.\n",
        "# Tags do not indicate order; They just mark which cluster each point belongs to.\n",
        "#(2) `Make_flobs first generates Gaussian points around each center, assigns cluster IDs as \"y_true\", and then performs shuffling on all samples.\n",
        "#That's why the data is not grouped, but 'y_true' still tracks the true cluster of each sample.\n"
      ],
      "metadata": {
        "colab": {
          "base_uri": "https://localhost:8080/"
        },
        "id": "pHWmlNJZu-6Y",
        "outputId": "e6a34b33-fa06-4070-ba0b-25ec30c4e2b7"
      },
      "execution_count": 5,
      "outputs": [
        {
          "output_type": "execute_result",
          "data": {
            "text/plain": [
              "array([0, 0, 4, 1, 1, 4, 4, 2, 1, 2, 4, 3, 0, 3, 4, 3, 2, 1, 0, 3, 3, 3,\n",
              "       3, 4, 0, 0, 1, 2, 4, 1, 0, 0, 4, 3, 4, 3, 4, 0, 0, 1, 3, 4, 4, 4,\n",
              "       3, 4, 0, 3, 1, 2, 1, 4, 2, 4, 0, 0, 0, 0, 1, 3, 2, 3, 1, 0, 1, 3,\n",
              "       3, 3, 3, 0, 0, 1, 1, 1, 2, 0, 3, 1, 4, 1, 1, 0, 0, 0, 4, 2, 0, 1,\n",
              "       2, 3, 2, 2, 4, 1, 2, 1, 3, 3, 1, 2, 2, 3, 2, 2, 4, 3, 3, 3, 2, 0,\n",
              "       0, 4, 2, 3, 3, 4, 1, 2, 2, 4, 4, 3, 3, 0, 2, 4, 4, 2, 2, 3, 3, 2,\n",
              "       4, 1, 0, 1, 4, 3, 3, 0, 2, 2, 3, 3, 3, 0, 3, 3, 2, 4, 1, 1, 0, 1,\n",
              "       4, 3, 2, 4, 3, 1, 0, 1, 3, 0, 3, 3, 2, 2, 1, 2, 2, 3, 4, 0, 4, 0,\n",
              "       4, 3, 4, 1, 2, 0, 1, 0, 3, 0, 4, 3, 0, 1, 1, 0, 2, 3, 2, 1, 0, 0,\n",
              "       3, 4, 4, 3, 3, 4, 0, 2, 4, 1, 2, 2, 0, 3, 3, 3, 4, 3, 2, 3, 4, 1,\n",
              "       2, 0, 4, 2, 2, 1, 1, 3, 2, 3, 3, 4, 4, 2, 1, 4, 0, 1, 2, 4, 1, 2,\n",
              "       0, 4, 2, 4, 4, 0, 2, 3, 4, 0, 4, 3, 0, 1, 4, 4, 0, 3, 3, 1, 4, 2,\n",
              "       3, 0, 0, 0, 2, 0, 2, 2, 0, 3, 3, 4, 1, 2, 4, 3, 0, 0, 4, 0, 1, 3,\n",
              "       4, 2, 2, 2, 2, 4, 1, 0, 0, 1, 1, 0, 1, 2, 0, 3, 3, 4, 0, 1, 2, 2,\n",
              "       0, 2, 0, 3, 3, 4, 0, 0, 0, 4, 2, 3, 0, 1, 1, 0, 1, 0, 4, 3, 1, 4,\n",
              "       1, 1, 4, 3, 0, 1, 3, 4, 2, 1, 4, 3, 2, 1, 0, 0, 2, 0, 1, 4, 1, 3,\n",
              "       1, 2, 1, 4, 0, 1, 3, 0, 0, 2, 0, 1, 0, 4, 0, 4, 4, 0, 3, 0, 3, 2,\n",
              "       3, 0, 0, 2, 1, 3, 2, 3, 2, 3, 3, 2, 4, 3, 1, 4, 2, 4, 1, 3, 0, 4,\n",
              "       2, 3, 2, 3, 3, 1, 1, 0, 2, 1, 0, 1, 2, 1, 2, 0, 0, 2, 4, 0, 4, 2,\n",
              "       1, 0, 1, 4, 0, 3, 3, 3, 2, 1, 1, 1, 2, 1, 0, 0, 1, 0, 4, 1, 0, 4,\n",
              "       0, 0, 3, 3, 0, 3, 3, 0, 1, 1, 4, 1, 1, 0, 1, 3, 1, 0, 1, 0, 1, 0,\n",
              "       1, 0, 3, 0, 2, 4, 1, 4, 1, 2, 0, 4, 4, 2, 2, 4, 2, 4, 3, 1, 4, 3,\n",
              "       2, 3, 0, 1, 3, 3, 4, 2, 2, 2, 3, 4, 3, 4, 2, 3, 3, 2, 0, 4, 4, 2,\n",
              "       2, 4, 3, 3, 2, 2, 2, 4, 3, 0, 2, 3, 2, 3, 1, 2, 4, 2, 0, 4, 1, 3,\n",
              "       1, 4, 3, 4, 0, 3, 2, 0, 3, 2, 0, 0, 2, 3, 4, 4, 1, 1, 4, 4, 1, 1,\n",
              "       4, 4, 0, 3, 2, 0, 0, 2, 3, 4, 4, 0, 3, 0, 4, 4, 4, 4, 4, 3, 3, 2,\n",
              "       2, 1, 0, 3, 4, 4, 2, 0, 2, 0, 1, 3, 2, 1, 2, 4, 0, 4, 3, 2, 2, 3,\n",
              "       2, 1, 1, 4, 4, 0, 4, 0, 0, 1, 4, 2, 4, 0, 1, 4, 3, 2, 3, 4, 3, 4,\n",
              "       1, 1, 0, 4, 3, 0, 4, 1, 1, 0, 2, 2, 1, 2, 4, 3, 3, 4, 3, 3, 0, 0,\n",
              "       2, 1, 1, 0, 1, 1, 4, 3, 1, 3, 2, 2, 4, 2, 1, 0, 0, 3, 0, 0, 0, 1,\n",
              "       0, 4, 3, 0, 4, 0, 1, 4, 2, 2, 4, 0, 3, 4, 1, 1, 1, 0, 1, 4, 1, 3,\n",
              "       1, 4, 3, 4, 2, 4, 4, 0, 3, 1, 2, 1, 2, 3, 0, 2, 1, 4, 3, 0, 2, 1,\n",
              "       2, 1, 3, 4, 2, 2, 1, 4, 3, 1, 3, 2, 2, 1, 0, 3, 4, 1, 0, 1, 4, 4,\n",
              "       3, 3, 2, 0, 0, 1, 1, 2, 4, 4, 2, 1, 1, 4, 4, 1, 2, 0, 3, 1, 0, 2,\n",
              "       2, 4, 4, 2, 4, 4, 3, 1, 3, 1, 0, 4, 4, 1, 3, 2, 4, 2, 3, 1, 1, 1,\n",
              "       4, 3, 2, 1, 1, 2, 1, 1, 1, 3, 1, 0, 2, 3, 3, 2, 2, 0, 3, 2, 2, 4,\n",
              "       2, 0, 0, 3, 2, 1, 2, 1, 4, 0, 4, 1, 2, 4, 4, 1, 3, 1, 3, 0, 4, 4,\n",
              "       0, 4, 2, 1, 1, 4, 0, 2, 2, 1, 3, 2, 1, 3, 4, 1, 1, 1, 1, 4, 3, 3,\n",
              "       3, 1, 0, 2, 0, 3, 1, 1, 4, 3, 0, 3, 2, 2, 4, 3, 2, 1, 3, 3, 3, 1,\n",
              "       0, 3, 4, 0, 2, 2, 0, 1, 4, 1, 2, 1, 2, 0, 1, 1, 3, 1, 4, 0, 2, 0,\n",
              "       0, 3, 3, 0, 2, 4, 4, 1, 2, 2, 2, 1, 1, 0, 2, 3, 2, 0, 3, 0, 0, 4,\n",
              "       2, 0, 2, 4, 0, 2, 1, 3, 4, 4, 3, 3, 4, 2, 4, 3, 4, 1, 2, 0, 2, 1,\n",
              "       3, 4, 0, 2, 2, 3, 3, 2, 4, 2, 0, 1, 0, 1, 2, 0, 1, 1, 2, 1, 3, 4,\n",
              "       2, 0, 1, 1, 0, 2, 4, 4, 4, 1, 0, 4, 4, 0, 2, 3, 3, 0, 1, 1, 2, 3,\n",
              "       4, 0, 3, 2, 1, 2, 0, 0, 1, 4, 3, 2, 0, 3, 2, 4, 4, 0, 0, 2, 0, 2,\n",
              "       4, 1, 3, 4, 4, 0, 0, 3, 0, 2])"
            ]
          },
          "metadata": {},
          "execution_count": 5
        }
      ]
    },
    {
      "cell_type": "markdown",
      "source": [],
      "metadata": {
        "id": "OIOcgO0fweP3"
      }
    },
    {
      "cell_type": "markdown",
      "source": [
        "# y_true is the true group label directly from make_blobs"
      ],
      "metadata": {
        "id": "sG_NGpMkvBum"
      }
    },
    {
      "cell_type": "markdown",
      "source": [
        "# Find (\"optimal\") number of clusters k first"
      ],
      "metadata": {
        "id": "0EztRgFaU4C8"
      }
    },
    {
      "cell_type": "markdown",
      "source": [
        "method1\n",
        "[Silhouette analysis](http://scikit-learn.org/stable/auto_examples/cluster/plot_kmeans_silhouette_analysis.html)"
      ],
      "metadata": {
        "id": "fLRJVjwgVAbR"
      }
    },
    {
      "cell_type": "code",
      "source": [
        "#\n",
        "#2\n",
        "from sklearn.metrics import silhouette_samples, silhouette_score\n",
        "range_n_clusters_k = [2, 3, 4, 5,6,7,8,9]\n",
        "silhouette_avg_k = []\n",
        "\n",
        "\n",
        "for n_clusters_k in range_n_clusters_k:\n",
        "    clusterer_k = KMeans(n_clusters=n_clusters_k, random_state=10)\n",
        "    cluster_labels_k = clusterer_k.fit_predict(X)\n",
        "    silhouette_avg_k.append(silhouette_score(X, cluster_labels_k))\n",
        "\n",
        "print(silhouette_avg_k)\n",
        "plt.plot(range_n_clusters_k,silhouette_avg_k)\n",
        "plt.xlabel('k')\n",
        "plt.ylabel('Silhouette Score')\n",
        "plt.show()"
      ],
      "metadata": {
        "id": "5GAsN-dmHjRM",
        "colab": {
          "base_uri": "https://localhost:8080/",
          "height": 487
        },
        "outputId": "8896604b-d133-4bc6-de7b-ad3b1b4061ea"
      },
      "execution_count": 6,
      "outputs": [
        {
          "output_type": "stream",
          "name": "stdout",
          "text": [
            "[np.float64(0.4150097488925307), np.float64(0.5155238155989122), np.float64(0.6265345233835395), np.float64(0.6611375445369994), np.float64(0.5459710483055447), np.float64(0.4509247059520141), np.float64(0.35252777761527054), np.float64(0.34863797052141854)]\n"
          ]
        },
        {
          "output_type": "display_data",
          "data": {
            "text/plain": [
              "<Figure size 640x480 with 1 Axes>"
            ],
            "image/png": "[encoded data removed]"
          },
          "metadata": {}
        }
      ]
    },
    {
      "cell_type": "markdown",
      "source": [
        "method 2 inertia value (only check total intra-cluster distance)"
      ],
      "metadata": {
        "id": "BOPpEb-DcdaI"
      }
    },
    {
      "cell_type": "markdown",
      "source": [
        "so yes k=5 best"
      ],
      "metadata": {
        "id": "tvIgqAa_Ypju"
      }
    },
    {
      "cell_type": "markdown",
      "source": [
        ">0.7 means the clusters are seperatelly.So, okay silhouette_score"
      ],
      "metadata": {
        "id": "QhdKjFsiagbh"
      }
    },
    {
      "cell_type": "code",
      "source": [
        "\n",
        "inertia_1 = []\n",
        "\n",
        "\n",
        "for n_clusters_k in range_n_clusters_k:\n",
        "    clusterer_k_2 = KMeans(n_clusters=n_clusters_k, random_state=10)\n",
        "    cluster_labels_k = clusterer_k_2.fit_predict(X)\n",
        "    inertia_1.append(clusterer_k_2.inertia_)\n",
        "\n",
        "print(inertia_1)\n",
        "plt.plot(range_n_clusters_k,inertia_1)\n",
        "plt.xlabel('k')\n",
        "plt.ylabel('inertia_ Score')\n",
        "plt.show()"
      ],
      "metadata": {
        "colab": {
          "base_uri": "https://localhost:8080/",
          "height": 467
        },
        "id": "CQeaGq-QbRgK",
        "outputId": "51945ebe-9b1b-49b4-dc88-8aa52e2662eb"
      },
      "execution_count": 7,
      "outputs": [
        {
          "output_type": "stream",
          "name": "stdout",
          "text": [
            "[6504.839875872424, 3836.3771369424576, 1780.4172638655577, 924.3159961688092, 892.6443542470599, 862.5921665100362, 823.7100949928089, 807.3096971848739]\n"
          ]
        },
        {
          "output_type": "display_data",
          "data": {
            "text/plain": [
              "<Figure size 640x480 with 1 Axes>"
            ],
            "image/png": "[encoded data removed]"
          },
          "metadata": {}
        }
      ]
    },
    {
      "cell_type": "code",
      "source": [
        "fig_choose_k_Q1, axes_choose_k_Q1 = plt.subplots(1, 2, figsize=(10,4))\n",
        "\n",
        "axes_choose_k_Q1[0].plot(range_n_clusters_k,silhouette_avg_k)\n",
        "axes_choose_k_Q1[0].set_xlabel('k')\n",
        "axes_choose_k_Q1[0].set_ylabel('Silhouette Score')\n",
        "axes_choose_k_Q1[0].set_title('Silhouette Score figure')\n",
        "\n",
        "axes_choose_k_Q1[1].plot(range_n_clusters_k,inertia_1)\n",
        "axes_choose_k_Q1[1].set_xlabel('k')\n",
        "axes_choose_k_Q1[1].set_ylabel('inertia_ Score')\n",
        "axes_choose_k_Q1[1].set_title('within-cluster sum of squares (SSE) Score figure')\n",
        "\n",
        "plt.tight_layout()\n",
        "plt.show()\n"
      ],
      "metadata": {
        "colab": {
          "base_uri": "https://localhost:8080/",
          "height": 407
        },
        "id": "GRWwSE2kemzm",
        "outputId": "564c0ae1-e5c2-4218-d65b-aef840229b19"
      },
      "execution_count": 8,
      "outputs": [
        {
          "output_type": "display_data",
          "data": {
            "text/plain": [
              "<Figure size 1000x400 with 2 Axes>"
            ],
            "image/png": "[encoded data removed]"
          },
          "metadata": {}
        }
      ]
    },
    {
      "cell_type": "code",
      "source": [],
      "metadata": {
        "id": "gDCa3o74eMB_"
      },
      "execution_count": 8,
      "outputs": []
    },
    {
      "cell_type": "markdown",
      "source": [
        "Also, k=5"
      ],
      "metadata": {
        "id": "tqv13WOVc-tX"
      }
    },
    {
      "cell_type": "markdown",
      "source": [
        "# For smallest inertia value."
      ],
      "metadata": {
        "id": "w0-BmHi1lnTn"
      }
    },
    {
      "cell_type": "markdown",
      "source": [
        "In k-means, inertia value (sum of within-cluster sum of squares) is affected by init method (k-means++ gives better starting centroids), n_init (number of runs), and max_iter (convergence steps). max_iter=1 risks poor clustering.\n",
        "Note:\n",
        "Defaults in scikit-lear's KMeans:\n",
        "\n",
        "init=\"k-means++\" (better centroid seeds, avoids poor clustering).\n",
        "\n",
        "n_init=10 (run algorithm 10 times, keep best inertia).\n",
        "\n",
        "max_iter=300 (allow up to 300 updates per run)."
      ],
      "metadata": {
        "id": "rCKXx1wxZ-s6"
      }
    },
    {
      "cell_type": "code",
      "source": [],
      "metadata": {
        "id": "eKP9tbZwm1Qx"
      },
      "execution_count": 8,
      "outputs": []
    },
    {
      "cell_type": "code",
      "source": [
        "kmeans_model_Q1=KMeans(n_clusters=5, random_state=10, n_init=100, max_iter=1000)# looks like it converge already\n",
        "fit_object_Q1=kmeans_model_Q1.fit(X)\n",
        "\n",
        "\n",
        "inertia_score_Q1=kmeans_model_Q1.inertia_\n",
        "print(\"inertia_score for Q1 is:\", inertia_score_Q1)\n",
        "924.3159961688092"
      ],
      "metadata": {
        "colab": {
          "base_uri": "https://localhost:8080/"
        },
        "id": "ZKWmorAglxP_",
        "outputId": "d4216990-b99e-44f2-e816-fdafdebdddba"
      },
      "execution_count": 9,
      "outputs": [
        {
          "output_type": "stream",
          "name": "stdout",
          "text": [
            "inertia_score for Q1 is: 924.3159961688092\n"
          ]
        },
        {
          "output_type": "execute_result",
          "data": {
            "text/plain": [
              "924.3159961688092"
            ]
          },
          "metadata": {},
          "execution_count": 9
        }
      ]
    },
    {
      "cell_type": "code",
      "source": [
        "# Note: kmeans_model_Q1.inertia_=fit_object_Q1.inertia_"
      ],
      "metadata": {
        "id": "gPx43Z_mtHUx"
      },
      "execution_count": 10,
      "outputs": []
    },
    {
      "cell_type": "markdown",
      "source": [
        "# 1.2 Visualization, PCA"
      ],
      "metadata": {
        "id": "wsc0NLSbrQwr"
      }
    },
    {
      "cell_type": "code",
      "source": [
        "cluster_group_label_Q1_predicted_k_means=kmeans_model_Q1.labels_ # This returns the assigned cluster label (group label) for each data point. But not the same gorup labering system as the make_blobs\n"
      ],
      "metadata": {
        "id": "ERN7hAdat9EZ"
      },
      "execution_count": 11,
      "outputs": []
    },
    {
      "cell_type": "code",
      "source": [
        "#cluster_group_label_Q1_predicted_k_means"
      ],
      "metadata": {
        "id": "egdsZtrcuJNE"
      },
      "execution_count": 12,
      "outputs": []
    },
    {
      "cell_type": "code",
      "source": [
        "centroid_Q1=kmeans_model_Q1.cluster_centers_ # store centroid\n",
        "# in scikit-learn, centroid_Q1 are ordered by cluster index (0,1,…,5), matching the labels in kmeans_model_Q1.labels_"
      ],
      "metadata": {
        "id": "0U_FHe6i3X1z"
      },
      "execution_count": 13,
      "outputs": []
    },
    {
      "cell_type": "code",
      "source": [
        "#2 Store the principal components in a pandas dataframe\n",
        "pca_model = PCA()\n",
        "X_PCA_Q1 = pca_model.fit_transform(X)# return an numpy array\n"
      ],
      "metadata": {
        "id": "mgSK5AX6ctub"
      },
      "execution_count": 14,
      "outputs": []
    },
    {
      "cell_type": "code",
      "source": [
        "# 2.2: pca to center too\n",
        "centroid_PCA_Q1=pca_model.transform(centroid_Q1)"
      ],
      "metadata": {
        "id": "vhiOnmncFyLD"
      },
      "execution_count": 15,
      "outputs": []
    },
    {
      "cell_type": "code",
      "source": [
        "X_PCA_Q1.shape"
      ],
      "metadata": {
        "colab": {
          "base_uri": "https://localhost:8080/"
        },
        "id": "etuDUnOZ5i_E",
        "outputId": "0e0e96cd-6a4b-4790-e985-cc27fa4ceacc"
      },
      "execution_count": 16,
      "outputs": [
        {
          "output_type": "execute_result",
          "data": {
            "text/plain": [
              "(1000, 10)"
            ]
          },
          "metadata": {},
          "execution_count": 16
        }
      ]
    },
    {
      "cell_type": "code",
      "source": [
        "df_plot_Q1 = pd.DataFrame(X_PCA_Q1, columns=['PC1', 'PC2', 'PC3', 'PC4', 'PC5', 'PC6', 'PC7','PC8','PC9','PC10'])\n",
        "# this pd df gives coordinates of sample i (row)(from X) expressed in the PC A basis.Note the row's order is the same as X\n",
        "#df_plot_Q1.head()"
      ],
      "metadata": {
        "id": "pNT2cYAi4k5b"
      },
      "execution_count": 17,
      "outputs": []
    },
    {
      "cell_type": "code",
      "source": [
        "# add predicted cluter label by k-means\n",
        "df_plot_Q1['cluster group Q1']=cluster_group_label_Q1_predicted_k_means"
      ],
      "metadata": {
        "id": "yc3uGQcZ8XSC"
      },
      "execution_count": 18,
      "outputs": []
    },
    {
      "cell_type": "code",
      "source": [
        "df_plot_Q1.head()"
      ],
      "metadata": {
        "colab": {
          "base_uri": "https://localhost:8080/",
          "height": 206
        },
        "id": "kIHkpoA38mkG",
        "outputId": "824b0a0c-db31-4128-af0c-aab81fd73da7"
      },
      "execution_count": 19,
      "outputs": [
        {
          "output_type": "execute_result",
          "data": {
            "text/plain": [
              "        PC1       PC2       PC3       PC4       PC5       PC6       PC7  \\\n",
              "0  0.546613 -0.615149 -2.604578 -0.281329 -0.741536  0.016610  0.325764   \n",
              "1  0.241234 -1.225602 -2.984748  0.282824 -0.282873 -0.223029 -0.094638   \n",
              "2  1.699376 -1.414747  0.957550  1.235807  0.196704  0.570600 -0.143160   \n",
              "3  0.493764 -1.099827  0.625651 -1.360638  0.626130  0.176493 -0.391839   \n",
              "4  0.527606 -1.151416  1.119964 -1.770453  0.363161  0.570393  0.511017   \n",
              "\n",
              "        PC8       PC9      PC10  cluster group Q1  \n",
              "0  0.190555  0.038105  0.201463                 3  \n",
              "1  0.177147 -0.131490  0.100223                 3  \n",
              "2 -0.054570  0.172934  0.187943                 1  \n",
              "3 -0.157058  0.273428  0.145375                 4  \n",
              "4 -0.372639 -0.291281  0.722248                 4  "
            ],
            "text/html": [
              "\n",
              "  <div id=\"df-342e1b16-429b-498c-98c3-b831948dcd5a\" class=\"colab-df-container\">\n",
              "    <div>\n",
              "<style scoped>\n",
              "    .dataframe tbody tr th:only-of-type {\n",
              "        vertical-align: middle;\n",
              "    }\n",
              "\n",
              "    .dataframe tbody tr th {\n",
              "        vertical-align: top;\n",
              "    }\n",
              "\n",
              "    .dataframe thead th {\n",
              "        text-align: right;\n",
              "    }\n",
              "</style>\n",
              "<table border=\"1\" class=\"dataframe\">\n",
              "  <thead>\n",
              "    <tr style=\"text-align: right;\">\n",
              "      <th></th>\n",
              "      <th>PC1</th>\n",
              "      <th>PC2</th>\n",
              "      <th>PC3</th>\n",
              "      <th>PC4</th>\n",
              "      <th>PC5</th>\n",
              "      <th>PC6</th>\n",
              "      <th>PC7</th>\n",
              "      <th>PC8</th>\n",
              "      <th>PC9</th>\n",
              "      <th>PC10</th>\n",
              "      <th>cluster group Q1</th>\n",
              "    </tr>\n",
              "  </thead>\n",
              "  <tbody>\n",
              "    <tr>\n",
              "      <th>0</th>\n",
              "      <td>0.546613</td>\n",
              "      <td>-0.615149</td>\n",
              "      <td>-2.604578</td>\n",
              "      <td>-0.281329</td>\n",
              "      <td>-0.741536</td>\n",
              "      <td>0.016610</td>\n",
              "      <td>0.325764</td>\n",
              "      <td>0.190555</td>\n",
              "      <td>0.038105</td>\n",
              "      <td>0.201463</td>\n",
              "      <td>3</td>\n",
              "    </tr>\n",
              "    <tr>\n",
              "      <th>1</th>\n",
              "      <td>0.241234</td>\n",
              "      <td>-1.225602</td>\n",
              "      <td>-2.984748</td>\n",
              "      <td>0.282824</td>\n",
              "      <td>-0.282873</td>\n",
              "      <td>-0.223029</td>\n",
              "      <td>-0.094638</td>\n",
              "      <td>0.177147</td>\n",
              "      <td>-0.131490</td>\n",
              "      <td>0.100223</td>\n",
              "      <td>3</td>\n",
              "    </tr>\n",
              "    <tr>\n",
              "      <th>2</th>\n",
              "      <td>1.699376</td>\n",
              "      <td>-1.414747</td>\n",
              "      <td>0.957550</td>\n",
              "      <td>1.235807</td>\n",
              "      <td>0.196704</td>\n",
              "      <td>0.570600</td>\n",
              "      <td>-0.143160</td>\n",
              "      <td>-0.054570</td>\n",
              "      <td>0.172934</td>\n",
              "      <td>0.187943</td>\n",
              "      <td>1</td>\n",
              "    </tr>\n",
              "    <tr>\n",
              "      <th>3</th>\n",
              "      <td>0.493764</td>\n",
              "      <td>-1.099827</td>\n",
              "      <td>0.625651</td>\n",
              "      <td>-1.360638</td>\n",
              "      <td>0.626130</td>\n",
              "      <td>0.176493</td>\n",
              "      <td>-0.391839</td>\n",
              "      <td>-0.157058</td>\n",
              "      <td>0.273428</td>\n",
              "      <td>0.145375</td>\n",
              "      <td>4</td>\n",
              "    </tr>\n",
              "    <tr>\n",
              "      <th>4</th>\n",
              "      <td>0.527606</td>\n",
              "      <td>-1.151416</td>\n",
              "      <td>1.119964</td>\n",
              "      <td>-1.770453</td>\n",
              "      <td>0.363161</td>\n",
              "      <td>0.570393</td>\n",
              "      <td>0.511017</td>\n",
              "      <td>-0.372639</td>\n",
              "      <td>-0.291281</td>\n",
              "      <td>0.722248</td>\n",
              "      <td>4</td>\n",
              "    </tr>\n",
              "  </tbody>\n",
              "</table>\n",
              "</div>\n",
              "    <div class=\"colab-df-buttons\">\n",
              "\n",
              "  <div class=\"colab-df-container\">\n",
              "    <button class=\"colab-df-convert\" onclick=\"convertToInteractive('df-342e1b16-429b-498c-98c3-b831948dcd5a')\"\n",
              "            title=\"Convert this dataframe to an interactive table.\"\n",
              "            style=\"display:none;\">\n",
              "\n",
              "  <svg xmlns=\"http://www.w3.org/2000/svg\" height=\"24px\" viewBox=\"0 -960 960 960\">\n",
              "    <path d=\"M120-120v-720h720v720H120Zm60-500h600v-160H180v160Zm220 220h160v-160H400v160Zm0 220h160v-160H400v160ZM180-400h160v-160H180v160Zm440 0h160v-160H620v160ZM180-180h160v-160H180v160Zm440 0h160v-160H620v160Z\"/>\n",
              "  </svg>\n",
              "    </button>\n",
              "\n",
              "  <style>\n",
              "    .colab-df-container {\n",
              "      display:flex;\n",
              "      gap: 12px;\n",
              "    }\n",
              "\n",
              "    .colab-df-convert {\n",
              "      background-color: #E8F0FE;\n",
              "      border: none;\n",
              "      border-radius: 50%;\n",
              "      cursor: pointer;\n",
              "      display: none;\n",
              "      fill: #1967D2;\n",
              "      height: 32px;\n",
              "      padding: 0 0 0 0;\n",
              "      width: 32px;\n",
              "    }\n",
              "\n",
              "    .colab-df-convert:hover {\n",
              "      background-color: #E2EBFA;\n",
              "      box-shadow: 0px 1px 2px rgba(60, 64, 67, 0.3), 0px 1px 3px 1px rgba(60, 64, 67, 0.15);\n",
              "      fill: #174EA6;\n",
              "    }\n",
              "\n",
              "    .colab-df-buttons div {\n",
              "      margin-bottom: 4px;\n",
              "    }\n",
              "\n",
              "    [theme=dark] .colab-df-convert {\n",
              "      background-color: #3B4455;\n",
              "      fill: #D2E3FC;\n",
              "    }\n",
              "\n",
              "    [theme=dark] .colab-df-convert:hover {\n",
              "      background-color: #434B5C;\n",
              "      box-shadow: 0px 1px 3px 1px rgba(0, 0, 0, 0.15);\n",
              "      filter: drop-shadow(0px 1px 2px rgba(0, 0, 0, 0.3));\n",
              "      fill: #FFFFFF;\n",
              "    }\n",
              "  </style>\n",
              "\n",
              "    <script>\n",
              "      const buttonEl =\n",
              "        document.querySelector('#df-342e1b16-429b-498c-98c3-b831948dcd5a button.colab-df-convert');\n",
              "      buttonEl.style.display =\n",
              "        google.colab.kernel.accessAllowed ? 'block' : 'none';\n",
              "\n",
              "      async function convertToInteractive(key) {\n",
              "        const element = document.querySelector('#df-342e1b16-429b-498c-98c3-b831948dcd5a');\n",
              "        const dataTable =\n",
              "          await google.colab.kernel.invokeFunction('convertToInteractive',\n",
              "                                                    [key], {});\n",
              "        if (!dataTable) return;\n",
              "\n",
              "        const docLinkHtml = 'Like what you see? Visit the ' +\n",
              "          '<a target=\"_blank\" href=https://colab.research.google.com/notebooks/data_table.ipynb>data table notebook</a>'\n",
              "          + ' to learn more about interactive tables.';\n",
              "        element.innerHTML = '';\n",
              "        dataTable['output_type'] = 'display_data';\n",
              "        await google.colab.output.renderOutput(dataTable, element);\n",
              "        const docLink = document.createElement('div');\n",
              "        docLink.innerHTML = docLinkHtml;\n",
              "        element.appendChild(docLink);\n",
              "      }\n",
              "    </script>\n",
              "  </div>\n",
              "\n",
              "\n",
              "    <div id=\"df-d1275112-4362-4627-bd5d-f7eda5481405\">\n",
              "      <button class=\"colab-df-quickchart\" onclick=\"quickchart('df-d1275112-4362-4627-bd5d-f7eda5481405')\"\n",
              "                title=\"Suggest charts\"\n",
              "                style=\"display:none;\">\n",
              "\n",
              "<svg xmlns=\"http://www.w3.org/2000/svg\" height=\"24px\"viewBox=\"0 0 24 24\"\n",
              "     width=\"24px\">\n",
              "    <g>\n",
              "        <path d=\"M19 3H5c-1.1 0-2 .9-2 2v14c0 1.1.9 2 2 2h14c1.1 0 2-.9 2-2V5c0-1.1-.9-2-2-2zM9 17H7v-7h2v7zm4 0h-2V7h2v10zm4 0h-2v-4h2v4z\"/>\n",
              "    </g>\n",
              "</svg>\n",
              "      </button>\n",
              "\n",
              "<style>\n",
              "  .colab-df-quickchart {\n",
              "      --bg-color: #E8F0FE;\n",
              "      --fill-color: #1967D2;\n",
              "      --hover-bg-color: #E2EBFA;\n",
              "      --hover-fill-color: #174EA6;\n",
              "      --disabled-fill-color: #AAA;\n",
              "      --disabled-bg-color: #DDD;\n",
              "  }\n",
              "\n",
              "  [theme=dark] .colab-df-quickchart {\n",
              "      --bg-color: #3B4455;\n",
              "      --fill-color: #D2E3FC;\n",
              "      --hover-bg-color: #434B5C;\n",
              "      --hover-fill-color: #FFFFFF;\n",
              "      --disabled-bg-color: #3B4455;\n",
              "      --disabled-fill-color: #666;\n",
              "  }\n",
              "\n",
              "  .colab-df-quickchart {\n",
              "    background-color: var(--bg-color);\n",
              "    border: none;\n",
              "    border-radius: 50%;\n",
              "    cursor: pointer;\n",
              "    display: none;\n",
              "    fill: var(--fill-color);\n",
              "    height: 32px;\n",
              "    padding: 0;\n",
              "    width: 32px;\n",
              "  }\n",
              "\n",
              "  .colab-df-quickchart:hover {\n",
              "    background-color: var(--hover-bg-color);\n",
              "    box-shadow: 0 1px 2px rgba(60, 64, 67, 0.3), 0 1px 3px 1px rgba(60, 64, 67, 0.15);\n",
              "    fill: var(--button-hover-fill-color);\n",
              "  }\n",
              "\n",
              "  .colab-df-quickchart-complete:disabled,\n",
              "  .colab-df-quickchart-complete:disabled:hover {\n",
              "    background-color: var(--disabled-bg-color);\n",
              "    fill: var(--disabled-fill-color);\n",
              "    box-shadow: none;\n",
              "  }\n",
              "\n",
              "  .colab-df-spinner {\n",
              "    border: 2px solid var(--fill-color);\n",
              "    border-color: transparent;\n",
              "    border-bottom-color: var(--fill-color);\n",
              "    animation:\n",
              "      spin 1s steps(1) infinite;\n",
              "  }\n",
              "\n",
              "  @keyframes spin {\n",
              "    0% {\n",
              "      border-color: transparent;\n",
              "      border-bottom-color: var(--fill-color);\n",
              "      border-left-color: var(--fill-color);\n",
              "    }\n",
              "    20% {\n",
              "      border-color: transparent;\n",
              "      border-left-color: var(--fill-color);\n",
              "      border-top-color: var(--fill-color);\n",
              "    }\n",
              "    30% {\n",
              "      border-color: transparent;\n",
              "      border-left-color: var(--fill-color);\n",
              "      border-top-color: var(--fill-color);\n",
              "      border-right-color: var(--fill-color);\n",
              "    }\n",
              "    40% {\n",
              "      border-color: transparent;\n",
              "      border-right-color: var(--fill-color);\n",
              "      border-top-color: var(--fill-color);\n",
              "    }\n",
              "    60% {\n",
              "      border-color: transparent;\n",
              "      border-right-color: var(--fill-color);\n",
              "    }\n",
              "    80% {\n",
              "      border-color: transparent;\n",
              "      border-right-color: var(--fill-color);\n",
              "      border-bottom-color: var(--fill-color);\n",
              "    }\n",
              "    90% {\n",
              "      border-color: transparent;\n",
              "      border-bottom-color: var(--fill-color);\n",
              "    }\n",
              "  }\n",
              "</style>\n",
              "\n",
              "      <script>\n",
              "        async function quickchart(key) {\n",
              "          const quickchartButtonEl =\n",
              "            document.querySelector('#' + key + ' button');\n",
              "          quickchartButtonEl.disabled = true;  // To prevent multiple clicks.\n",
              "          quickchartButtonEl.classList.add('colab-df-spinner');\n",
              "          try {\n",
              "            const charts = await google.colab.kernel.invokeFunction(\n",
              "                'suggestCharts', [key], {});\n",
              "          } catch (error) {\n",
              "            console.error('Error during call to suggestCharts:', error);\n",
              "          }\n",
              "          quickchartButtonEl.classList.remove('colab-df-spinner');\n",
              "          quickchartButtonEl.classList.add('colab-df-quickchart-complete');\n",
              "        }\n",
              "        (() => {\n",
              "          let quickchartButtonEl =\n",
              "            document.querySelector('#df-d1275112-4362-4627-bd5d-f7eda5481405 button');\n",
              "          quickchartButtonEl.style.display =\n",
              "            google.colab.kernel.accessAllowed ? 'block' : 'none';\n",
              "        })();\n",
              "      </script>\n",
              "    </div>\n",
              "\n",
              "    </div>\n",
              "  </div>\n"
            ],
            "application/vnd.google.colaboratory.intrinsic+json": {
              "type": "dataframe",
              "variable_name": "df_plot_Q1",
              "summary": "{\n  \"name\": \"df_plot_Q1\",\n  \"rows\": 1000,\n  \"fields\": [\n    {\n      \"column\": \"PC1\",\n      \"properties\": {\n        \"dtype\": \"number\",\n        \"std\": 1.941225976124074,\n        \"min\": -4.367691089796833,\n        \"max\": 3.0230318060824075,\n        \"num_unique_values\": 1000,\n        \"samples\": [\n          1.8603248448054477,\n          -0.5022068247005792,\n          1.3475137536048303\n        ],\n        \"semantic_type\": \"\",\n        \"description\": \"\"\n      }\n    },\n    {\n      \"column\": \"PC2\",\n      \"properties\": {\n        \"dtype\": \"number\",\n        \"std\": 1.6444944623281759,\n        \"min\": -2.326015561183759,\n        \"max\": 3.623026730635186,\n        \"num_unique_values\": 1000,\n        \"samples\": [\n          3.210009911792997,\n          -1.227913080892056,\n          -1.7975881033773125\n        ],\n        \"semantic_type\": \"\",\n        \"description\": \"\"\n      }\n    },\n    {\n      \"column\": \"PC3\",\n      \"properties\": {\n        \"dtype\": \"number\",\n        \"std\": 1.4659542291109517,\n        \"min\": -3.3929875878791127,\n        \"max\": 2.309240090483045,\n        \"num_unique_values\": 1000,\n        \"samples\": [\n          0.9306590246121911,\n          0.7320863494262438,\n          1.4420052785213964\n        ],\n        \"semantic_type\": \"\",\n        \"description\": \"\"\n      }\n    },\n    {\n      \"column\": \"PC4\",\n      \"properties\": {\n        \"dtype\": \"number\",\n        \"std\": 0.8938886489724808,\n        \"min\": -2.3029971620001803,\n        \"max\": 1.8868906431862347,\n        \"num_unique_values\": 1000,\n        \"samples\": [\n          -0.036995095754723525,\n          -1.2506597022323989,\n          0.9861892742272886\n        ],\n        \"semantic_type\": \"\",\n        \"description\": \"\"\n      }\n    },\n    {\n      \"column\": \"PC5\",\n      \"properties\": {\n        \"dtype\": \"number\",\n        \"std\": 0.4376289056359169,\n        \"min\": -1.7169778183948703,\n        \"max\": 1.4335379922891005,\n        \"num_unique_values\": 1000,\n        \"samples\": [\n          -0.7432965086763706,\n          -0.06755781171627222,\n          0.3684124248754301\n        ],\n        \"semantic_type\": \"\",\n        \"description\": \"\"\n      }\n    },\n    {\n      \"column\": \"PC6\",\n      \"properties\": {\n        \"dtype\": \"number\",\n        \"std\": 0.3699665382913446,\n        \"min\": -1.3368513867214273,\n        \"max\": 1.2412655442527296,\n        \"num_unique_values\": 1000,\n        \"samples\": [\n          0.15904980359450735,\n          -0.28761563755878305,\n          -0.06407934445664157\n        ],\n        \"semantic_type\": \"\",\n        \"description\": \"\"\n      }\n    },\n    {\n      \"column\": \"PC7\",\n      \"properties\": {\n        \"dtype\": \"number\",\n        \"std\": 0.3034541921065066,\n        \"min\": -0.8571065914370163,\n        \"max\": 1.1791196297790458,\n        \"num_unique_values\": 1000,\n        \"samples\": [\n          0.3521418776296025,\n          -0.4112097752184386,\n          -0.3045690796511006\n        ],\n        \"semantic_type\": \"\",\n        \"description\": \"\"\n      }\n    },\n    {\n      \"column\": \"PC8\",\n      \"properties\": {\n        \"dtype\": \"number\",\n        \"std\": 0.25429032840474153,\n        \"min\": -0.7810340960671245,\n        \"max\": 0.841165699883496,\n        \"num_unique_values\": 1000,\n        \"samples\": [\n          -0.3228347166938967,\n          -0.04703777704329284,\n          0.17329518228394525\n        ],\n        \"semantic_type\": \"\",\n        \"description\": \"\"\n      }\n    },\n    {\n      \"column\": \"PC9\",\n      \"properties\": {\n        \"dtype\": \"number\",\n        \"std\": 0.2338467397621237,\n        \"min\": -0.7593119481602603,\n        \"max\": 0.6836764774862168,\n        \"num_unique_values\": 1000,\n        \"samples\": [\n          0.3398117125563947,\n          -0.12894574991875954,\n          -0.28436835749546346\n        ],\n        \"semantic_type\": \"\",\n        \"description\": \"\"\n      }\n    },\n    {\n      \"column\": \"PC10\",\n      \"properties\": {\n        \"dtype\": \"number\",\n        \"std\": 0.22227089410228718,\n        \"min\": -0.6959601070390873,\n        \"max\": 0.722247619004058,\n        \"num_unique_values\": 1000,\n        \"samples\": [\n          -0.09070082861875615,\n          -0.2413576465317258,\n          -0.16225978931943508\n        ],\n        \"semantic_type\": \"\",\n        \"description\": \"\"\n      }\n    },\n    {\n      \"column\": \"cluster group Q1\",\n      \"properties\": {\n        \"dtype\": \"int32\",\n        \"num_unique_values\": 5,\n        \"samples\": [\n          1,\n          0,\n          4\n        ],\n        \"semantic_type\": \"\",\n        \"description\": \"\"\n      }\n    }\n  ]\n}"
            }
          },
          "metadata": {},
          "execution_count": 19
        }
      ]
    },
    {
      "cell_type": "code",
      "source": [],
      "metadata": {
        "id": "zhlRyu-S8re0"
      },
      "execution_count": 19,
      "outputs": []
    },
    {
      "cell_type": "markdown",
      "source": [
        "3 visualization"
      ],
      "metadata": {
        "id": "7edd1Et87snp"
      }
    },
    {
      "cell_type": "code",
      "source": [
        "from matplotlib.colors import ListedColormap\n",
        "cmap = ListedColormap([\"#e41a1c\",\"#984ea3\",\"#a65628\",\"#377eb8\",\"#ffff33\",\"#4daf4a\",\"#ff7f00\"])\n",
        "#e41a1c = red, #984ea3 = purple, #a65628 = brown, #377eb8 = blue, #ffff33 = yellow, #4daf4a = green,#ff7f00 = orange"
      ],
      "metadata": {
        "id": "BYXHTaXyrbQU"
      },
      "execution_count": 20,
      "outputs": []
    },
    {
      "cell_type": "code",
      "source": [
        "plt.rcParams['figure.figsize'] = (6, 6)\n",
        "fig,ax_Q1 = plt.subplots()\n",
        "\n",
        "ax_Q1.set_xlim(df_plot_Q1[\"PC1\"].min()-0.5,df_plot_Q1[\"PC1\"].max()+0.5) # set PC1 and PC2 axies length\n",
        "ax_Q1.set_ylim(df_plot_Q1[\"PC2\"].min()-0.5,df_plot_Q1[\"PC2\"].max()+0.5)\n",
        "\n",
        "# Plot Principal Components 1 and 2 in R^2\n",
        "ax_Q1.scatter(df_plot_Q1[\"PC1\"], df_plot_Q1[\"PC2\"], c=df_plot_Q1['cluster group Q1'],  marker=\"o\", cmap=cmap)\n",
        "\n",
        "# plot centroid\n",
        "plt.scatter(centroid_PCA_Q1[:,0], centroid_PCA_Q1[:,1],# this means the first and second entry of the numpy array, PC1 axis (direction) coordiante and PC2 direction coordinate of the centroid\n",
        "            c=\"black\", marker=\"x\", s=30, label=\"Centroids\")\n",
        "\n",
        "\n",
        "ax_Q1 .set_xlabel('First Principal Component')\n",
        "ax_Q1 .set_ylabel('Second Principal Component')\n",
        "ax_Q1.legend()\n",
        "\n",
        "plt.show()"
      ],
      "metadata": {
        "colab": {
          "base_uri": "https://localhost:8080/",
          "height": 542
        },
        "id": "34GHJjuL7oEn",
        "outputId": "53be7b2d-d150-495b-a6a7-7bd9410f3e7d"
      },
      "execution_count": 21,
      "outputs": [
        {
          "output_type": "display_data",
          "data": {
            "text/plain": [
              "<Figure size 600x600 with 1 Axes>"
            ],
            "image/png": "[encoded data removed]"
          },
          "metadata": {}
        }
      ]
    },
    {
      "cell_type": "code",
      "source": [
        "print(pca_model.explained_variance_ratio_[:2].sum()) # proportion of variance expinaed by PCA with rank 2"
      ],
      "metadata": {
        "colab": {
          "base_uri": "https://localhost:8080/"
        },
        "id": "Ii6PegAEIoWo",
        "outputId": "c2a9cf59-aa6b-4536-fa85-bdbe08613e74"
      },
      "execution_count": 22,
      "outputs": [
        {
          "output_type": "stream",
          "name": "stdout",
          "text": [
            "0.6466247606679894\n"
          ]
        }
      ]
    },
    {
      "cell_type": "markdown",
      "source": [
        "# 1.3 confusion matric\n"
      ],
      "metadata": {
        "id": "tUk5Mo6M0wEH"
      }
    },
    {
      "cell_type": "markdown",
      "source": [
        "K-means assigns cluster group IDs arbitrarily (such as 0, 1, 2...) without considering the \"make_blobs\" numbering system. Both tag arrays are aligned with the sample order of data points, but their group numbering systems are different. Ex, the cluster group 1 is not the same as the label 1 in make-blobs\""
      ],
      "metadata": {
        "id": "krEX2zhg06z_"
      }
    },
    {
      "cell_type": "markdown",
      "source": [
        "-  The predicted class label corresponds to the label in cluster_group_label_Q1_predicted_k_means, while the true class label here is the one that corresponds to the label in the \"make_blobs\" system."
      ],
      "metadata": {
        "id": "-pdxDAsq_Gbs"
      }
    },
    {
      "cell_type": "markdown",
      "source": [
        "# step 1 find cluster exempalr index"
      ],
      "metadata": {
        "id": "7w28CG7eEyzb"
      }
    },
    {
      "cell_type": "code",
      "source": [
        "from sklearn.metrics import pairwise_distances_argmin_min\n",
        "\n",
        "closest_index_or_cluster_examplar_index_that_coressponds_in_X, _ = pairwise_distances_argmin_min(\n",
        "    centroid_Q1, X # the comparison is the coordinates before PCA\n",
        ")\n",
        "exemplars = X[closest_index_or_cluster_examplar_index_that_coressponds_in_X]\n",
        "print(closest_index_or_cluster_examplar_index_that_coressponds_in_X)\n",
        "exemplars"
      ],
      "metadata": {
        "colab": {
          "base_uri": "https://localhost:8080/"
        },
        "id": "KyK1EWXsy2vJ",
        "outputId": "443779c0-c691-45b9-c41a-88fdc46bcc52"
      },
      "execution_count": 23,
      "outputs": [
        {
          "output_type": "stream",
          "name": "stdout",
          "text": [
            "[635 503 307 561 829]\n"
          ]
        },
        {
          "output_type": "execute_result",
          "data": {
            "text/plain": [
              "array([[-1.26166669, -1.36490409,  2.12660244, -0.56855459,  0.8585857 ,\n",
              "        -0.66974716,  0.61012625,  1.38200302, -1.46923155,  0.77812206],\n",
              "       [ 1.49821557,  0.20182268, -0.11272875,  0.46701739, -0.82091875,\n",
              "        -0.15238804,  1.54370933, -0.62995797,  0.58389964, -1.02593181],\n",
              "       [ 0.56674866,  1.15268497, -0.06149501,  0.15369339,  1.34511434,\n",
              "         1.48331257, -1.29032206, -1.16207287, -0.18535149,  1.19453659],\n",
              "       [-0.35699807,  0.01531058, -1.09312017, -1.62482606, -0.60041016,\n",
              "        -1.12894438, -0.99930535, -0.34949134,  1.36452937,  0.098352  ],\n",
              "       [-0.46501218, -0.21405718, -0.36605229,  0.9094477 , -0.97608333,\n",
              "         0.52762796,  0.03959958,  0.42896491, -0.38418946, -0.9979179 ]])"
            ]
          },
          "metadata": {},
          "execution_count": 23
        }
      ]
    },
    {
      "cell_type": "markdown",
      "source": [
        "The code above employs `pairwise_distances_argmin_min' to compare centroid_Q1 with all data points in X. It returns (closest_index_or_cluster_examplar_index_that_coressponds_in_X) indices of closest samples — the exemplars.\n"
      ],
      "metadata": {
        "id": "XfkhVBXqFYVt"
      }
    },
    {
      "cell_type": "markdown",
      "source": [
        "# step 2 create a df that include cluster label and ground tue label"
      ],
      "metadata": {
        "id": "o1RMITVrE23N"
      }
    },
    {
      "cell_type": "code",
      "source": [
        "df_plot_Q1['True group label Q1']=y_true"
      ],
      "metadata": {
        "id": "nVV379ggOylF"
      },
      "execution_count": 24,
      "outputs": []
    },
    {
      "cell_type": "code",
      "source": [
        "df_plot_Q1.iloc[500:520]"
      ],
      "metadata": {
        "colab": {
          "base_uri": "https://localhost:8080/",
          "height": 676
        },
        "id": "LgCN0TYmVvHa",
        "outputId": "e877c982-5a42-4bda-c4aa-7e965ea1e6c1"
      },
      "execution_count": 25,
      "outputs": [
        {
          "output_type": "execute_result",
          "data": {
            "text/plain": [
              "          PC1       PC2       PC3       PC4       PC5       PC6       PC7  \\\n",
              "500 -3.515701  1.102161 -0.287709  0.879361 -0.354850  0.558971  0.378044   \n",
              "501  2.038474  2.902089 -0.043734  0.704226  0.455680 -0.026692  0.221906   \n",
              "502  0.726409 -0.866515 -2.730632 -0.329038 -0.292327  0.692396  0.540673   \n",
              "503  1.161381 -1.670946  1.072363  1.415558 -0.180145 -0.100312 -0.084404   \n",
              "504  1.209108 -1.678379  1.450704  0.999122  0.440204  0.115026  0.168915   \n",
              "505  1.858057  2.943741  0.157060  0.320543 -0.034876  0.031156  0.312861   \n",
              "506  2.104002  2.863989  0.096602  0.207603  0.090049  0.524067 -0.356449   \n",
              "507  1.367592 -1.702975  0.449175  1.399124 -0.465062 -0.031347  0.080909   \n",
              "508 -3.732080  0.481286 -0.430979  0.636987 -0.025566 -0.095624 -0.184053   \n",
              "509 -3.766431  0.642907  0.248622  0.311057 -0.258206  0.504275 -0.003926   \n",
              "510  2.336864  3.197340  0.193986  0.428406  0.076378  0.068917  0.375570   \n",
              "511  1.581703  2.872632  0.431799  0.109555  0.625448 -0.441162  0.505236   \n",
              "512  1.633778  2.846498 -0.177188  0.240441 -0.202004  0.207162 -0.125897   \n",
              "513  1.456410 -1.912510  0.865021  1.768606 -0.133636  0.388968 -0.268363   \n",
              "514 -3.979247  0.282158  0.281269  0.142031 -0.114030 -0.183749  0.055974   \n",
              "515 -0.050048 -0.933641 -2.861065 -0.544393 -0.136392 -0.342901  0.070359   \n",
              "516  2.367258  2.622887 -0.393139  0.330139  0.585839  0.265915 -0.568314   \n",
              "517 -3.807273  0.575336 -0.188792  0.277879  0.374185  0.611601 -0.357656   \n",
              "518  0.873205  2.782652  0.500352 -0.225047 -0.252110 -0.389507  0.391306   \n",
              "519 -3.396776  0.711320 -0.404992  0.275730  0.148080  0.433332  0.227379   \n",
              "\n",
              "          PC8       PC9      PC10  cluster group Q1  True group label Q1  \n",
              "500 -0.011918  0.172512 -0.183192                 0                    3  \n",
              "501  0.457166  0.069930 -0.089288                 2                    2  \n",
              "502  0.179265  0.070838 -0.002915                 3                    0  \n",
              "503 -0.023069  0.067785 -0.193098                 1                    4  \n",
              "504  0.013418  0.040908 -0.266459                 1                    4  \n",
              "505  0.028107  0.108597 -0.180504                 2                    2  \n",
              "506  0.419062 -0.479986  0.193900                 2                    2  \n",
              "507  0.189166  0.358997  0.075390                 1                    4  \n",
              "508  0.155543 -0.262990 -0.033977                 0                    3  \n",
              "509 -0.271057 -0.091393 -0.040534                 0                    3  \n",
              "510 -0.069766  0.065912  0.025126                 2                    2  \n",
              "511  0.087820  0.085201 -0.279611                 2                    2  \n",
              "512 -0.235694  0.162329 -0.245305                 2                    2  \n",
              "513  0.080849 -0.073036 -0.140784                 1                    4  \n",
              "514  0.015976 -0.231479  0.000541                 0                    3  \n",
              "515  0.172067  0.150989 -0.339578                 3                    0  \n",
              "516  0.249809 -0.246473  0.273500                 2                    2  \n",
              "517  0.119083  0.102288  0.185270                 0                    3  \n",
              "518  0.255291 -0.010626  0.119125                 2                    2  \n",
              "519  0.180291  0.269347 -0.137135                 0                    3  "
            ],
            "text/html": [
              "\n",
              "  <div id=\"df-27da395f-1677-41bc-add5-0b8029063540\" class=\"colab-df-container\">\n",
              "    <div>\n",
              "<style scoped>\n",
              "    .dataframe tbody tr th:only-of-type {\n",
              "        vertical-align: middle;\n",
              "    }\n",
              "\n",
              "    .dataframe tbody tr th {\n",
              "        vertical-align: top;\n",
              "    }\n",
              "\n",
              "    .dataframe thead th {\n",
              "        text-align: right;\n",
              "    }\n",
              "</style>\n",
              "<table border=\"1\" class=\"dataframe\">\n",
              "  <thead>\n",
              "    <tr style=\"text-align: right;\">\n",
              "      <th></th>\n",
              "      <th>PC1</th>\n",
              "      <th>PC2</th>\n",
              "      <th>PC3</th>\n",
              "      <th>PC4</th>\n",
              "      <th>PC5</th>\n",
              "      <th>PC6</th>\n",
              "      <th>PC7</th>\n",
              "      <th>PC8</th>\n",
              "      <th>PC9</th>\n",
              "      <th>PC10</th>\n",
              "      <th>cluster group Q1</th>\n",
              "      <th>True group label Q1</th>\n",
              "    </tr>\n",
              "  </thead>\n",
              "  <tbody>\n",
              "    <tr>\n",
              "      <th>500</th>\n",
              "      <td>-3.515701</td>\n",
              "      <td>1.102161</td>\n",
              "      <td>-0.287709</td>\n",
              "      <td>0.879361</td>\n",
              "      <td>-0.354850</td>\n",
              "      <td>0.558971</td>\n",
              "      <td>0.378044</td>\n",
              "      <td>-0.011918</td>\n",
              "      <td>0.172512</td>\n",
              "      <td>-0.183192</td>\n",
              "      <td>0</td>\n",
              "      <td>3</td>\n",
              "    </tr>\n",
              "    <tr>\n",
              "      <th>501</th>\n",
              "      <td>2.038474</td>\n",
              "      <td>2.902089</td>\n",
              "      <td>-0.043734</td>\n",
              "      <td>0.704226</td>\n",
              "      <td>0.455680</td>\n",
              "      <td>-0.026692</td>\n",
              "      <td>0.221906</td>\n",
              "      <td>0.457166</td>\n",
              "      <td>0.069930</td>\n",
              "      <td>-0.089288</td>\n",
              "      <td>2</td>\n",
              "      <td>2</td>\n",
              "    </tr>\n",
              "    <tr>\n",
              "      <th>502</th>\n",
              "      <td>0.726409</td>\n",
              "      <td>-0.866515</td>\n",
              "      <td>-2.730632</td>\n",
              "      <td>-0.329038</td>\n",
              "      <td>-0.292327</td>\n",
              "      <td>0.692396</td>\n",
              "      <td>0.540673</td>\n",
              "      <td>0.179265</td>\n",
              "      <td>0.070838</td>\n",
              "      <td>-0.002915</td>\n",
              "      <td>3</td>\n",
              "      <td>0</td>\n",
              "    </tr>\n",
              "    <tr>\n",
              "      <th>503</th>\n",
              "      <td>1.161381</td>\n",
              "      <td>-1.670946</td>\n",
              "      <td>1.072363</td>\n",
              "      <td>1.415558</td>\n",
              "      <td>-0.180145</td>\n",
              "      <td>-0.100312</td>\n",
              "      <td>-0.084404</td>\n",
              "      <td>-0.023069</td>\n",
              "      <td>0.067785</td>\n",
              "      <td>-0.193098</td>\n",
              "      <td>1</td>\n",
              "      <td>4</td>\n",
              "    </tr>\n",
              "    <tr>\n",
              "      <th>504</th>\n",
              "      <td>1.209108</td>\n",
              "      <td>-1.678379</td>\n",
              "      <td>1.450704</td>\n",
              "      <td>0.999122</td>\n",
              "      <td>0.440204</td>\n",
              "      <td>0.115026</td>\n",
              "      <td>0.168915</td>\n",
              "      <td>0.013418</td>\n",
              "      <td>0.040908</td>\n",
              "      <td>-0.266459</td>\n",
              "      <td>1</td>\n",
              "      <td>4</td>\n",
              "    </tr>\n",
              "    <tr>\n",
              "      <th>505</th>\n",
              "      <td>1.858057</td>\n",
              "      <td>2.943741</td>\n",
              "      <td>0.157060</td>\n",
              "      <td>0.320543</td>\n",
              "      <td>-0.034876</td>\n",
              "      <td>0.031156</td>\n",
              "      <td>0.312861</td>\n",
              "      <td>0.028107</td>\n",
              "      <td>0.108597</td>\n",
              "      <td>-0.180504</td>\n",
              "      <td>2</td>\n",
              "      <td>2</td>\n",
              "    </tr>\n",
              "    <tr>\n",
              "      <th>506</th>\n",
              "      <td>2.104002</td>\n",
              "      <td>2.863989</td>\n",
              "      <td>0.096602</td>\n",
              "      <td>0.207603</td>\n",
              "      <td>0.090049</td>\n",
              "      <td>0.524067</td>\n",
              "      <td>-0.356449</td>\n",
              "      <td>0.419062</td>\n",
              "      <td>-0.479986</td>\n",
              "      <td>0.193900</td>\n",
              "      <td>2</td>\n",
              "      <td>2</td>\n",
              "    </tr>\n",
              "    <tr>\n",
              "      <th>507</th>\n",
              "      <td>1.367592</td>\n",
              "      <td>-1.702975</td>\n",
              "      <td>0.449175</td>\n",
              "      <td>1.399124</td>\n",
              "      <td>-0.465062</td>\n",
              "      <td>-0.031347</td>\n",
              "      <td>0.080909</td>\n",
              "      <td>0.189166</td>\n",
              "      <td>0.358997</td>\n",
              "      <td>0.075390</td>\n",
              "      <td>1</td>\n",
              "      <td>4</td>\n",
              "    </tr>\n",
              "    <tr>\n",
              "      <th>508</th>\n",
              "      <td>-3.732080</td>\n",
              "      <td>0.481286</td>\n",
              "      <td>-0.430979</td>\n",
              "      <td>0.636987</td>\n",
              "      <td>-0.025566</td>\n",
              "      <td>-0.095624</td>\n",
              "      <td>-0.184053</td>\n",
              "      <td>0.155543</td>\n",
              "      <td>-0.262990</td>\n",
              "      <td>-0.033977</td>\n",
              "      <td>0</td>\n",
              "      <td>3</td>\n",
              "    </tr>\n",
              "    <tr>\n",
              "      <th>509</th>\n",
              "      <td>-3.766431</td>\n",
              "      <td>0.642907</td>\n",
              "      <td>0.248622</td>\n",
              "      <td>0.311057</td>\n",
              "      <td>-0.258206</td>\n",
              "      <td>0.504275</td>\n",
              "      <td>-0.003926</td>\n",
              "      <td>-0.271057</td>\n",
              "      <td>-0.091393</td>\n",
              "      <td>-0.040534</td>\n",
              "      <td>0</td>\n",
              "      <td>3</td>\n",
              "    </tr>\n",
              "    <tr>\n",
              "      <th>510</th>\n",
              "      <td>2.336864</td>\n",
              "      <td>3.197340</td>\n",
              "      <td>0.193986</td>\n",
              "      <td>0.428406</td>\n",
              "      <td>0.076378</td>\n",
              "      <td>0.068917</td>\n",
              "      <td>0.375570</td>\n",
              "      <td>-0.069766</td>\n",
              "      <td>0.065912</td>\n",
              "      <td>0.025126</td>\n",
              "      <td>2</td>\n",
              "      <td>2</td>\n",
              "    </tr>\n",
              "    <tr>\n",
              "      <th>511</th>\n",
              "      <td>1.581703</td>\n",
              "      <td>2.872632</td>\n",
              "      <td>0.431799</td>\n",
              "      <td>0.109555</td>\n",
              "      <td>0.625448</td>\n",
              "      <td>-0.441162</td>\n",
              "      <td>0.505236</td>\n",
              "      <td>0.087820</td>\n",
              "      <td>0.085201</td>\n",
              "      <td>-0.279611</td>\n",
              "      <td>2</td>\n",
              "      <td>2</td>\n",
              "    </tr>\n",
              "    <tr>\n",
              "      <th>512</th>\n",
              "      <td>1.633778</td>\n",
              "      <td>2.846498</td>\n",
              "      <td>-0.177188</td>\n",
              "      <td>0.240441</td>\n",
              "      <td>-0.202004</td>\n",
              "      <td>0.207162</td>\n",
              "      <td>-0.125897</td>\n",
              "      <td>-0.235694</td>\n",
              "      <td>0.162329</td>\n",
              "      <td>-0.245305</td>\n",
              "      <td>2</td>\n",
              "      <td>2</td>\n",
              "    </tr>\n",
              "    <tr>\n",
              "      <th>513</th>\n",
              "      <td>1.456410</td>\n",
              "      <td>-1.912510</td>\n",
              "      <td>0.865021</td>\n",
              "      <td>1.768606</td>\n",
              "      <td>-0.133636</td>\n",
              "      <td>0.388968</td>\n",
              "      <td>-0.268363</td>\n",
              "      <td>0.080849</td>\n",
              "      <td>-0.073036</td>\n",
              "      <td>-0.140784</td>\n",
              "      <td>1</td>\n",
              "      <td>4</td>\n",
              "    </tr>\n",
              "    <tr>\n",
              "      <th>514</th>\n",
              "      <td>-3.979247</td>\n",
              "      <td>0.282158</td>\n",
              "      <td>0.281269</td>\n",
              "      <td>0.142031</td>\n",
              "      <td>-0.114030</td>\n",
              "      <td>-0.183749</td>\n",
              "      <td>0.055974</td>\n",
              "      <td>0.015976</td>\n",
              "      <td>-0.231479</td>\n",
              "      <td>0.000541</td>\n",
              "      <td>0</td>\n",
              "      <td>3</td>\n",
              "    </tr>\n",
              "    <tr>\n",
              "      <th>515</th>\n",
              "      <td>-0.050048</td>\n",
              "      <td>-0.933641</td>\n",
              "      <td>-2.861065</td>\n",
              "      <td>-0.544393</td>\n",
              "      <td>-0.136392</td>\n",
              "      <td>-0.342901</td>\n",
              "      <td>0.070359</td>\n",
              "      <td>0.172067</td>\n",
              "      <td>0.150989</td>\n",
              "      <td>-0.339578</td>\n",
              "      <td>3</td>\n",
              "      <td>0</td>\n",
              "    </tr>\n",
              "    <tr>\n",
              "      <th>516</th>\n",
              "      <td>2.367258</td>\n",
              "      <td>2.622887</td>\n",
              "      <td>-0.393139</td>\n",
              "      <td>0.330139</td>\n",
              "      <td>0.585839</td>\n",
              "      <td>0.265915</td>\n",
              "      <td>-0.568314</td>\n",
              "      <td>0.249809</td>\n",
              "      <td>-0.246473</td>\n",
              "      <td>0.273500</td>\n",
              "      <td>2</td>\n",
              "      <td>2</td>\n",
              "    </tr>\n",
              "    <tr>\n",
              "      <th>517</th>\n",
              "      <td>-3.807273</td>\n",
              "      <td>0.575336</td>\n",
              "      <td>-0.188792</td>\n",
              "      <td>0.277879</td>\n",
              "      <td>0.374185</td>\n",
              "      <td>0.611601</td>\n",
              "      <td>-0.357656</td>\n",
              "      <td>0.119083</td>\n",
              "      <td>0.102288</td>\n",
              "      <td>0.185270</td>\n",
              "      <td>0</td>\n",
              "      <td>3</td>\n",
              "    </tr>\n",
              "    <tr>\n",
              "      <th>518</th>\n",
              "      <td>0.873205</td>\n",
              "      <td>2.782652</td>\n",
              "      <td>0.500352</td>\n",
              "      <td>-0.225047</td>\n",
              "      <td>-0.252110</td>\n",
              "      <td>-0.389507</td>\n",
              "      <td>0.391306</td>\n",
              "      <td>0.255291</td>\n",
              "      <td>-0.010626</td>\n",
              "      <td>0.119125</td>\n",
              "      <td>2</td>\n",
              "      <td>2</td>\n",
              "    </tr>\n",
              "    <tr>\n",
              "      <th>519</th>\n",
              "      <td>-3.396776</td>\n",
              "      <td>0.711320</td>\n",
              "      <td>-0.404992</td>\n",
              "      <td>0.275730</td>\n",
              "      <td>0.148080</td>\n",
              "      <td>0.433332</td>\n",
              "      <td>0.227379</td>\n",
              "      <td>0.180291</td>\n",
              "      <td>0.269347</td>\n",
              "      <td>-0.137135</td>\n",
              "      <td>0</td>\n",
              "      <td>3</td>\n",
              "    </tr>\n",
              "  </tbody>\n",
              "</table>\n",
              "</div>\n",
              "    <div class=\"colab-df-buttons\">\n",
              "\n",
              "  <div class=\"colab-df-container\">\n",
              "    <button class=\"colab-df-convert\" onclick=\"convertToInteractive('df-27da395f-1677-41bc-add5-0b8029063540')\"\n",
              "            title=\"Convert this dataframe to an interactive table.\"\n",
              "            style=\"display:none;\">\n",
              "\n",
              "  <svg xmlns=\"http://www.w3.org/2000/svg\" height=\"24px\" viewBox=\"0 -960 960 960\">\n",
              "    <path d=\"M120-120v-720h720v720H120Zm60-500h600v-160H180v160Zm220 220h160v-160H400v160Zm0 220h160v-160H400v160ZM180-400h160v-160H180v160Zm440 0h160v-160H620v160ZM180-180h160v-160H180v160Zm440 0h160v-160H620v160Z\"/>\n",
              "  </svg>\n",
              "    </button>\n",
              "\n",
              "  <style>\n",
              "    .colab-df-container {\n",
              "      display:flex;\n",
              "      gap: 12px;\n",
              "    }\n",
              "\n",
              "    .colab-df-convert {\n",
              "      background-color: #E8F0FE;\n",
              "      border: none;\n",
              "      border-radius: 50%;\n",
              "      cursor: pointer;\n",
              "      display: none;\n",
              "      fill: #1967D2;\n",
              "      height: 32px;\n",
              "      padding: 0 0 0 0;\n",
              "      width: 32px;\n",
              "    }\n",
              "\n",
              "    .colab-df-convert:hover {\n",
              "      background-color: #E2EBFA;\n",
              "      box-shadow: 0px 1px 2px rgba(60, 64, 67, 0.3), 0px 1px 3px 1px rgba(60, 64, 67, 0.15);\n",
              "      fill: #174EA6;\n",
              "    }\n",
              "\n",
              "    .colab-df-buttons div {\n",
              "      margin-bottom: 4px;\n",
              "    }\n",
              "\n",
              "    [theme=dark] .colab-df-convert {\n",
              "      background-color: #3B4455;\n",
              "      fill: #D2E3FC;\n",
              "    }\n",
              "\n",
              "    [theme=dark] .colab-df-convert:hover {\n",
              "      background-color: #434B5C;\n",
              "      box-shadow: 0px 1px 3px 1px rgba(0, 0, 0, 0.15);\n",
              "      filter: drop-shadow(0px 1px 2px rgba(0, 0, 0, 0.3));\n",
              "      fill: #FFFFFF;\n",
              "    }\n",
              "  </style>\n",
              "\n",
              "    <script>\n",
              "      const buttonEl =\n",
              "        document.querySelector('#df-27da395f-1677-41bc-add5-0b8029063540 button.colab-df-convert');\n",
              "      buttonEl.style.display =\n",
              "        google.colab.kernel.accessAllowed ? 'block' : 'none';\n",
              "\n",
              "      async function convertToInteractive(key) {\n",
              "        const element = document.querySelector('#df-27da395f-1677-41bc-add5-0b8029063540');\n",
              "        const dataTable =\n",
              "          await google.colab.kernel.invokeFunction('convertToInteractive',\n",
              "                                                    [key], {});\n",
              "        if (!dataTable) return;\n",
              "\n",
              "        const docLinkHtml = 'Like what you see? Visit the ' +\n",
              "          '<a target=\"_blank\" href=https://colab.research.google.com/notebooks/data_table.ipynb>data table notebook</a>'\n",
              "          + ' to learn more about interactive tables.';\n",
              "        element.innerHTML = '';\n",
              "        dataTable['output_type'] = 'display_data';\n",
              "        await google.colab.output.renderOutput(dataTable, element);\n",
              "        const docLink = document.createElement('div');\n",
              "        docLink.innerHTML = docLinkHtml;\n",
              "        element.appendChild(docLink);\n",
              "      }\n",
              "    </script>\n",
              "  </div>\n",
              "\n",
              "\n",
              "    <div id=\"df-c0508ce8-4cc9-4307-9e8a-430a22656808\">\n",
              "      <button class=\"colab-df-quickchart\" onclick=\"quickchart('df-c0508ce8-4cc9-4307-9e8a-430a22656808')\"\n",
              "                title=\"Suggest charts\"\n",
              "                style=\"display:none;\">\n",
              "\n",
              "<svg xmlns=\"http://www.w3.org/2000/svg\" height=\"24px\"viewBox=\"0 0 24 24\"\n",
              "     width=\"24px\">\n",
              "    <g>\n",
              "        <path d=\"M19 3H5c-1.1 0-2 .9-2 2v14c0 1.1.9 2 2 2h14c1.1 0 2-.9 2-2V5c0-1.1-.9-2-2-2zM9 17H7v-7h2v7zm4 0h-2V7h2v10zm4 0h-2v-4h2v4z\"/>\n",
              "    </g>\n",
              "</svg>\n",
              "      </button>\n",
              "\n",
              "<style>\n",
              "  .colab-df-quickchart {\n",
              "      --bg-color: #E8F0FE;\n",
              "      --fill-color: #1967D2;\n",
              "      --hover-bg-color: #E2EBFA;\n",
              "      --hover-fill-color: #174EA6;\n",
              "      --disabled-fill-color: #AAA;\n",
              "      --disabled-bg-color: #DDD;\n",
              "  }\n",
              "\n",
              "  [theme=dark] .colab-df-quickchart {\n",
              "      --bg-color: #3B4455;\n",
              "      --fill-color: #D2E3FC;\n",
              "      --hover-bg-color: #434B5C;\n",
              "      --hover-fill-color: #FFFFFF;\n",
              "      --disabled-bg-color: #3B4455;\n",
              "      --disabled-fill-color: #666;\n",
              "  }\n",
              "\n",
              "  .colab-df-quickchart {\n",
              "    background-color: var(--bg-color);\n",
              "    border: none;\n",
              "    border-radius: 50%;\n",
              "    cursor: pointer;\n",
              "    display: none;\n",
              "    fill: var(--fill-color);\n",
              "    height: 32px;\n",
              "    padding: 0;\n",
              "    width: 32px;\n",
              "  }\n",
              "\n",
              "  .colab-df-quickchart:hover {\n",
              "    background-color: var(--hover-bg-color);\n",
              "    box-shadow: 0 1px 2px rgba(60, 64, 67, 0.3), 0 1px 3px 1px rgba(60, 64, 67, 0.15);\n",
              "    fill: var(--button-hover-fill-color);\n",
              "  }\n",
              "\n",
              "  .colab-df-quickchart-complete:disabled,\n",
              "  .colab-df-quickchart-complete:disabled:hover {\n",
              "    background-color: var(--disabled-bg-color);\n",
              "    fill: var(--disabled-fill-color);\n",
              "    box-shadow: none;\n",
              "  }\n",
              "\n",
              "  .colab-df-spinner {\n",
              "    border: 2px solid var(--fill-color);\n",
              "    border-color: transparent;\n",
              "    border-bottom-color: var(--fill-color);\n",
              "    animation:\n",
              "      spin 1s steps(1) infinite;\n",
              "  }\n",
              "\n",
              "  @keyframes spin {\n",
              "    0% {\n",
              "      border-color: transparent;\n",
              "      border-bottom-color: var(--fill-color);\n",
              "      border-left-color: var(--fill-color);\n",
              "    }\n",
              "    20% {\n",
              "      border-color: transparent;\n",
              "      border-left-color: var(--fill-color);\n",
              "      border-top-color: var(--fill-color);\n",
              "    }\n",
              "    30% {\n",
              "      border-color: transparent;\n",
              "      border-left-color: var(--fill-color);\n",
              "      border-top-color: var(--fill-color);\n",
              "      border-right-color: var(--fill-color);\n",
              "    }\n",
              "    40% {\n",
              "      border-color: transparent;\n",
              "      border-right-color: var(--fill-color);\n",
              "      border-top-color: var(--fill-color);\n",
              "    }\n",
              "    60% {\n",
              "      border-color: transparent;\n",
              "      border-right-color: var(--fill-color);\n",
              "    }\n",
              "    80% {\n",
              "      border-color: transparent;\n",
              "      border-right-color: var(--fill-color);\n",
              "      border-bottom-color: var(--fill-color);\n",
              "    }\n",
              "    90% {\n",
              "      border-color: transparent;\n",
              "      border-bottom-color: var(--fill-color);\n",
              "    }\n",
              "  }\n",
              "</style>\n",
              "\n",
              "      <script>\n",
              "        async function quickchart(key) {\n",
              "          const quickchartButtonEl =\n",
              "            document.querySelector('#' + key + ' button');\n",
              "          quickchartButtonEl.disabled = true;  // To prevent multiple clicks.\n",
              "          quickchartButtonEl.classList.add('colab-df-spinner');\n",
              "          try {\n",
              "            const charts = await google.colab.kernel.invokeFunction(\n",
              "                'suggestCharts', [key], {});\n",
              "          } catch (error) {\n",
              "            console.error('Error during call to suggestCharts:', error);\n",
              "          }\n",
              "          quickchartButtonEl.classList.remove('colab-df-spinner');\n",
              "          quickchartButtonEl.classList.add('colab-df-quickchart-complete');\n",
              "        }\n",
              "        (() => {\n",
              "          let quickchartButtonEl =\n",
              "            document.querySelector('#df-c0508ce8-4cc9-4307-9e8a-430a22656808 button');\n",
              "          quickchartButtonEl.style.display =\n",
              "            google.colab.kernel.accessAllowed ? 'block' : 'none';\n",
              "        })();\n",
              "      </script>\n",
              "    </div>\n",
              "\n",
              "    </div>\n",
              "  </div>\n"
            ],
            "application/vnd.google.colaboratory.intrinsic+json": {
              "type": "dataframe",
              "summary": "{\n  \"name\": \"df_plot_Q1\",\n  \"rows\": 20,\n  \"fields\": [\n    {\n      \"column\": \"PC1\",\n      \"properties\": {\n        \"dtype\": \"number\",\n        \"std\": 2.498316660065957,\n        \"min\": -3.979247223346153,\n        \"max\": 2.367258373161997,\n        \"num_unique_values\": 20,\n        \"samples\": [\n          -3.5157012377631043,\n          -3.807273111107249,\n          -0.050047801814834834\n        ],\n        \"semantic_type\": \"\",\n        \"description\": \"\"\n      }\n    },\n    {\n      \"column\": \"PC2\",\n      \"properties\": {\n        \"dtype\": \"number\",\n        \"std\": 1.8742613500261638,\n        \"min\": -1.9125099808665451,\n        \"max\": 3.197340468432509,\n        \"num_unique_values\": 20,\n        \"samples\": [\n          1.1021614336762255,\n          0.575336483246655,\n          -0.9336411436061907\n        ],\n        \"semantic_type\": \"\",\n        \"description\": \"\"\n      }\n    },\n    {\n      \"column\": \"PC3\",\n      \"properties\": {\n        \"dtype\": \"number\",\n        \"std\": 1.0511923074126177,\n        \"min\": -2.8610651066098467,\n        \"max\": 1.450703602258578,\n        \"num_unique_values\": 20,\n        \"samples\": [\n          -0.2877094895733946,\n          -0.18879245492441146,\n          -2.8610651066098467\n        ],\n        \"semantic_type\": \"\",\n        \"description\": \"\"\n      }\n    },\n    {\n      \"column\": \"PC4\",\n      \"properties\": {\n        \"dtype\": \"number\",\n        \"std\": 0.5905842794131352,\n        \"min\": -0.5443932974332313,\n        \"max\": 1.768605643071719,\n        \"num_unique_values\": 20,\n        \"samples\": [\n          0.8793609198282221,\n          0.27787938739689705,\n          -0.5443932974332313\n        ],\n        \"semantic_type\": \"\",\n        \"description\": \"\"\n      }\n    },\n    {\n      \"column\": \"PC5\",\n      \"properties\": {\n        \"dtype\": \"number\",\n        \"std\": 0.32348202392080616,\n        \"min\": -0.46506230986947505,\n        \"max\": 0.6254482485305513,\n        \"num_unique_values\": 20,\n        \"samples\": [\n          -0.35485028370888994,\n          0.374185306693736,\n          -0.1363920563016605\n        ],\n        \"semantic_type\": \"\",\n        \"description\": \"\"\n      }\n    },\n    {\n      \"column\": \"PC6\",\n      \"properties\": {\n        \"dtype\": \"number\",\n        \"std\": 0.3476045825614028,\n        \"min\": -0.44116207843004746,\n        \"max\": 0.6923959330606821,\n        \"num_unique_values\": 20,\n        \"samples\": [\n          0.5589709020234167,\n          0.6116010762802865,\n          -0.342900590647132\n        ],\n        \"semantic_type\": \"\",\n        \"description\": \"\"\n      }\n    },\n    {\n      \"column\": \"PC7\",\n      \"properties\": {\n        \"dtype\": \"number\",\n        \"std\": 0.311048872450825,\n        \"min\": -0.568314101414386,\n        \"max\": 0.5406732461063732,\n        \"num_unique_values\": 20,\n        \"samples\": [\n          0.3780438113277666,\n          -0.35765647130130845,\n          0.07035926086985636\n        ],\n        \"semantic_type\": \"\",\n        \"description\": \"\"\n      }\n    },\n    {\n      \"column\": \"PC8\",\n      \"properties\": {\n        \"dtype\": \"number\",\n        \"std\": 0.1824326536856494,\n        \"min\": -0.27105721691269585,\n        \"max\": 0.4571660569459694,\n        \"num_unique_values\": 20,\n        \"samples\": [\n          -0.01191756718394717,\n          0.11908337744301532,\n          0.1720665634291928\n        ],\n        \"semantic_type\": \"\",\n        \"description\": \"\"\n      }\n    },\n    {\n      \"column\": \"PC9\",\n      \"properties\": {\n        \"dtype\": \"number\",\n        \"std\": 0.1990264988299875,\n        \"min\": -0.479986042921579,\n        \"max\": 0.35899679821595654,\n        \"num_unique_values\": 20,\n        \"samples\": [\n          0.17251198907026466,\n          0.1022877237384944,\n          0.1509893409982461\n        ],\n        \"semantic_type\": \"\",\n        \"description\": \"\"\n      }\n    },\n    {\n      \"column\": \"PC10\",\n      \"properties\": {\n        \"dtype\": \"number\",\n        \"std\": 0.1725067611006697,\n        \"min\": -0.33957825911925793,\n        \"max\": 0.27349980432763266,\n        \"num_unique_values\": 20,\n        \"samples\": [\n          -0.183191898863112,\n          0.18527044007413976,\n          -0.33957825911925793\n        ],\n        \"semantic_type\": \"\",\n        \"description\": \"\"\n      }\n    },\n    {\n      \"column\": \"cluster group Q1\",\n      \"properties\": {\n        \"dtype\": \"int32\",\n        \"num_unique_values\": 4,\n        \"samples\": [\n          2,\n          1,\n          0\n        ],\n        \"semantic_type\": \"\",\n        \"description\": \"\"\n      }\n    },\n    {\n      \"column\": \"True group label Q1\",\n      \"properties\": {\n        \"dtype\": \"number\",\n        \"std\": 1,\n        \"min\": 0,\n        \"max\": 4,\n        \"num_unique_values\": 4,\n        \"samples\": [\n          2,\n          4,\n          3\n        ],\n        \"semantic_type\": \"\",\n        \"description\": \"\"\n      }\n    }\n  ]\n}"
            }
          },
          "metadata": {},
          "execution_count": 25
        }
      ]
    },
    {
      "cell_type": "markdown",
      "source": [
        "# step 3 mapping"
      ],
      "metadata": {
        "id": "O5kxXFLqFDlT"
      }
    },
    {
      "cell_type": "code",
      "source": [
        "print(df_plot_Q1['True group label Q1'][635], df_plot_Q1['cluster group Q1'][635])\n",
        "# yes, the order in closest_index_or_cluster_examplar_index_that_coressponds_in_X array matches the cluster group.\n",
        "# group 0 exemplar label (0) index in df_plot_Q1 is the 1st entry of closest_index_or_cluster_examplar_index_that_coressponds_in_X. This makes the matching proess simpler"
      ],
      "metadata": {
        "colab": {
          "base_uri": "https://localhost:8080/"
        },
        "id": "SeFu2mQnW4D7",
        "outputId": "b5141cfb-2f62-4174-cf66-8844f0f77cb5"
      },
      "execution_count": 26,
      "outputs": [
        {
          "output_type": "stream",
          "name": "stdout",
          "text": [
            "3 0\n"
          ]
        }
      ]
    },
    {
      "cell_type": "markdown",
      "source": [
        "ex, changing all 0 to 3. Cluster 0 → 3."
      ],
      "metadata": {
        "id": "1gKGM-wxl0lL"
      }
    },
    {
      "cell_type": "markdown",
      "source": [
        "goal: fix cluster group Q1 label. Process: sawaping predicted group k to k'.Where k is reprented by exemplar_k (clsuter k), and k' is the ground truth label in \"True group label Q1\" column of df_plot_Q1."
      ],
      "metadata": {
        "id": "gC-LP27-YPYk"
      }
    },
    {
      "cell_type": "markdown",
      "source": [
        "So formally, the data point in X whcih is closest to the centroid k (k_th partiion S_k) is called cluster exemplar_k.\n",
        "\n",
        "So I use the exemplar_k in group k to represent the assigned cluter labels of all points in group k.\n",
        "\n",
        "Also note that I am assuming the cluter exemplar_k label matched the true group label in make_blobs. So this works to match the ordering systems between \"make_blobs\" and clustering  now.\n",
        "\n",
        "Next steps: (2)Find the true group label k' in the \"make_blobs\" system for exemplar_k, which stands for the group partition label k' for all points in group k. (3) Fix all the cluster group k labe (predicted) by indexing in the df based on the index of exemplar_k."
      ],
      "metadata": {
        "id": "ZluDs1-07kxz"
      }
    },
    {
      "cell_type": "code",
      "source": [
        "#df.loc[df[\"a\"] == 1, \"a\"] = 2 #: change df['a']'s 1 to 2\n",
        "count = ((df_plot_Q1[\"True group label Q1\"] == 3) & (df_plot_Q1[\"cluster group Q1\"] == 0)).sum()\n",
        "print(count)\n"
      ],
      "metadata": {
        "colab": {
          "base_uri": "https://localhost:8080/"
        },
        "id": "ns073FKLtP4y",
        "outputId": "71f17887-094d-46c3-9b8e-7d7d2aae7d0e"
      },
      "execution_count": 27,
      "outputs": [
        {
          "output_type": "stream",
          "name": "stdout",
          "text": [
            "200\n"
          ]
        }
      ]
    },
    {
      "cell_type": "code",
      "source": [
        "#for i in range(5):\n",
        "\n",
        "  #df_plot_Q1.loc[df_plot_Q1[\"cluster group Q1\"] == i, \"cluster group Q1\"] = df_plot_Q1.loc[closest_index_or_cluster_examplar_index_that_coressponds_in_X[i],'True group label Q1']\n",
        "\n",
        "  #Note1: df.loc[x,y], value of (x,y)th entry in df\n",
        "  #Note2:  above code: all integer i in \"cluster group Q1\" column → df_plot_Q1.loc[x,'True group label Q1'], where x= index of exempler_i\n"
      ],
      "metadata": {
        "id": "Ea3KZwYiYGCx"
      },
      "execution_count": 28,
      "outputs": []
    },
    {
      "cell_type": "code",
      "source": [
        "print(df_plot_Q1['True group label Q1'][635], df_plot_Q1['cluster group Q1'][635])\n",
        "print(df_plot_Q1['True group label Q1'][503], df_plot_Q1['cluster group Q1'][503])"
      ],
      "metadata": {
        "colab": {
          "base_uri": "https://localhost:8080/"
        },
        "id": "AuCISxv4sETD",
        "outputId": "6ba7a5da-ccde-45f5-e079-505936eb6c5f"
      },
      "execution_count": 29,
      "outputs": [
        {
          "output_type": "stream",
          "name": "stdout",
          "text": [
            "3 0\n",
            "4 1\n"
          ]
        }
      ]
    },
    {
      "cell_type": "markdown",
      "source": [
        "# improve prevous loop method"
      ],
      "metadata": {
        "id": "BkC8y7mT5Hty"
      }
    },
    {
      "cell_type": "markdown",
      "source": [
        "(1)If not using a separate mapping dictionary as policy, once a cluster label changes (e.g., 0 → 3), that row will also match later condition ==3 and get reassigned again.\n",
        "\n",
        "(2) So need to use create a mapping policy, stored in the mapping_dic dictionary.\n",
        "Then use the methodology: df[\"a\"] = df[\"a\"].map(mapping_dic),to change the ith row once.\n",
        "\n",
        "(3)Also, .map(mapping): map by te matching policy in dic \"mapping_dic.\""
      ],
      "metadata": {
        "id": "VaiGjBJZ0XaS"
      }
    },
    {
      "cell_type": "code",
      "source": [
        "group_label_l=(np.unique(kmeans_model_Q1.labels_)).tolist()\n",
        "group_label_l # just store 0,1,2,3,4 in a list for looping"
      ],
      "metadata": {
        "colab": {
          "base_uri": "https://localhost:8080/"
        },
        "id": "vOBaOVoT6FCc",
        "outputId": "fad1e159-80d7-4992-b8d8-2842ebac26dc"
      },
      "execution_count": 30,
      "outputs": [
        {
          "output_type": "execute_result",
          "data": {
            "text/plain": [
              "[0, 1, 2, 3, 4]"
            ]
          },
          "metadata": {},
          "execution_count": 30
        }
      ]
    },
    {
      "cell_type": "code",
      "source": [
        "df_plot_Q1[\"cluster group Q1\"].dtype\n"
      ],
      "metadata": {
        "colab": {
          "base_uri": "https://localhost:8080/"
        },
        "id": "6WNXCBa8-B8w",
        "outputId": "ff6de860-e31b-4447-8cd2-0fb568f7cdbc"
      },
      "execution_count": 31,
      "outputs": [
        {
          "output_type": "execute_result",
          "data": {
            "text/plain": [
              "dtype('int32')"
            ]
          },
          "metadata": {},
          "execution_count": 31
        }
      ]
    },
    {
      "cell_type": "code",
      "source": [
        "# step 1 create a mapping_dic as mappping policy\n",
        "mapping_dic={}\n",
        "for k in group_label_l:\n",
        "  df_index=closest_index_or_cluster_examplar_index_that_coressponds_in_X[k] # again, index 0 in the list corresponds to cluster 0, order same, no worries\n",
        "  mapping_dic[k]=df_plot_Q1.loc[closest_index_or_cluster_examplar_index_that_coressponds_in_X[k],'True group label Q1'] # same matching technique as before, but now only store policy\n",
        "print('policy for renaming cluster group k is',mapping_dic)\n"
      ],
      "metadata": {
        "colab": {
          "base_uri": "https://localhost:8080/"
        },
        "id": "dMG7IkP35Ln5",
        "outputId": "1b2478d9-cf02-4976-fed2-e1d8d994b496"
      },
      "execution_count": 32,
      "outputs": [
        {
          "output_type": "stream",
          "name": "stdout",
          "text": [
            "policy for renaming cluster group k is {0: np.int64(3), 1: np.int64(4), 2: np.int64(2), 3: np.int64(0), 4: np.int64(1)}\n"
          ]
        }
      ]
    },
    {
      "cell_type": "code",
      "source": [
        "print(mapping_dic.keys)"
      ],
      "metadata": {
        "colab": {
          "base_uri": "https://localhost:8080/"
        },
        "id": "4VMSPoVV-Lyw",
        "outputId": "9dbe71bd-d090-40a2-b5b5-383a87b12b57"
      },
      "execution_count": 33,
      "outputs": [
        {
          "output_type": "stream",
          "name": "stdout",
          "text": [
            "<built-in method keys of dict object at 0x78ccfddfed40>\n"
          ]
        }
      ]
    },
    {
      "cell_type": "code",
      "source": [
        "df_plot_Q1[\"cluster group Q1\"] = df_plot_Q1[\"cluster group Q1\"].map(mapping_dic) # this will map once"
      ],
      "metadata": {
        "id": "qe-eOlRu8oD6"
      },
      "execution_count": 34,
      "outputs": []
    },
    {
      "cell_type": "code",
      "source": [
        "print(df_plot_Q1['True group label Q1'][635], df_plot_Q1['cluster group Q1'][635])\n",
        "print(df_plot_Q1['True group label Q1'][503], df_plot_Q1['cluster group Q1'][503])\n",
        "# good!"
      ],
      "metadata": {
        "colab": {
          "base_uri": "https://localhost:8080/"
        },
        "id": "2v3rPaq883mt",
        "outputId": "c2f90870-d463-4553-ce9f-97c206962595"
      },
      "execution_count": 35,
      "outputs": [
        {
          "output_type": "stream",
          "name": "stdout",
          "text": [
            "3 3\n",
            "4 4\n"
          ]
        }
      ]
    },
    {
      "cell_type": "code",
      "source": [
        "df_plot_Q1.iloc[500:520]"
      ],
      "metadata": {
        "colab": {
          "base_uri": "https://localhost:8080/",
          "height": 676
        },
        "id": "ycbjRm5F_Jdv",
        "outputId": "cf3c3a5e-544f-4b26-f9e2-c1c5948555d9"
      },
      "execution_count": 36,
      "outputs": [
        {
          "output_type": "execute_result",
          "data": {
            "text/plain": [
              "          PC1       PC2       PC3       PC4       PC5       PC6       PC7  \\\n",
              "500 -3.515701  1.102161 -0.287709  0.879361 -0.354850  0.558971  0.378044   \n",
              "501  2.038474  2.902089 -0.043734  0.704226  0.455680 -0.026692  0.221906   \n",
              "502  0.726409 -0.866515 -2.730632 -0.329038 -0.292327  0.692396  0.540673   \n",
              "503  1.161381 -1.670946  1.072363  1.415558 -0.180145 -0.100312 -0.084404   \n",
              "504  1.209108 -1.678379  1.450704  0.999122  0.440204  0.115026  0.168915   \n",
              "505  1.858057  2.943741  0.157060  0.320543 -0.034876  0.031156  0.312861   \n",
              "506  2.104002  2.863989  0.096602  0.207603  0.090049  0.524067 -0.356449   \n",
              "507  1.367592 -1.702975  0.449175  1.399124 -0.465062 -0.031347  0.080909   \n",
              "508 -3.732080  0.481286 -0.430979  0.636987 -0.025566 -0.095624 -0.184053   \n",
              "509 -3.766431  0.642907  0.248622  0.311057 -0.258206  0.504275 -0.003926   \n",
              "510  2.336864  3.197340  0.193986  0.428406  0.076378  0.068917  0.375570   \n",
              "511  1.581703  2.872632  0.431799  0.109555  0.625448 -0.441162  0.505236   \n",
              "512  1.633778  2.846498 -0.177188  0.240441 -0.202004  0.207162 -0.125897   \n",
              "513  1.456410 -1.912510  0.865021  1.768606 -0.133636  0.388968 -0.268363   \n",
              "514 -3.979247  0.282158  0.281269  0.142031 -0.114030 -0.183749  0.055974   \n",
              "515 -0.050048 -0.933641 -2.861065 -0.544393 -0.136392 -0.342901  0.070359   \n",
              "516  2.367258  2.622887 -0.393139  0.330139  0.585839  0.265915 -0.568314   \n",
              "517 -3.807273  0.575336 -0.188792  0.277879  0.374185  0.611601 -0.357656   \n",
              "518  0.873205  2.782652  0.500352 -0.225047 -0.252110 -0.389507  0.391306   \n",
              "519 -3.396776  0.711320 -0.404992  0.275730  0.148080  0.433332  0.227379   \n",
              "\n",
              "          PC8       PC9      PC10  cluster group Q1  True group label Q1  \n",
              "500 -0.011918  0.172512 -0.183192                 3                    3  \n",
              "501  0.457166  0.069930 -0.089288                 2                    2  \n",
              "502  0.179265  0.070838 -0.002915                 0                    0  \n",
              "503 -0.023069  0.067785 -0.193098                 4                    4  \n",
              "504  0.013418  0.040908 -0.266459                 4                    4  \n",
              "505  0.028107  0.108597 -0.180504                 2                    2  \n",
              "506  0.419062 -0.479986  0.193900                 2                    2  \n",
              "507  0.189166  0.358997  0.075390                 4                    4  \n",
              "508  0.155543 -0.262990 -0.033977                 3                    3  \n",
              "509 -0.271057 -0.091393 -0.040534                 3                    3  \n",
              "510 -0.069766  0.065912  0.025126                 2                    2  \n",
              "511  0.087820  0.085201 -0.279611                 2                    2  \n",
              "512 -0.235694  0.162329 -0.245305                 2                    2  \n",
              "513  0.080849 -0.073036 -0.140784                 4                    4  \n",
              "514  0.015976 -0.231479  0.000541                 3                    3  \n",
              "515  0.172067  0.150989 -0.339578                 0                    0  \n",
              "516  0.249809 -0.246473  0.273500                 2                    2  \n",
              "517  0.119083  0.102288  0.185270                 3                    3  \n",
              "518  0.255291 -0.010626  0.119125                 2                    2  \n",
              "519  0.180291  0.269347 -0.137135                 3                    3  "
            ],
            "text/html": [
              "\n",
              "  <div id=\"df-e3eaaebe-4237-445a-9d31-cacef5c91273\" class=\"colab-df-container\">\n",
              "    <div>\n",
              "<style scoped>\n",
              "    .dataframe tbody tr th:only-of-type {\n",
              "        vertical-align: middle;\n",
              "    }\n",
              "\n",
              "    .dataframe tbody tr th {\n",
              "        vertical-align: top;\n",
              "    }\n",
              "\n",
              "    .dataframe thead th {\n",
              "        text-align: right;\n",
              "    }\n",
              "</style>\n",
              "<table border=\"1\" class=\"dataframe\">\n",
              "  <thead>\n",
              "    <tr style=\"text-align: right;\">\n",
              "      <th></th>\n",
              "      <th>PC1</th>\n",
              "      <th>PC2</th>\n",
              "      <th>PC3</th>\n",
              "      <th>PC4</th>\n",
              "      <th>PC5</th>\n",
              "      <th>PC6</th>\n",
              "      <th>PC7</th>\n",
              "      <th>PC8</th>\n",
              "      <th>PC9</th>\n",
              "      <th>PC10</th>\n",
              "      <th>cluster group Q1</th>\n",
              "      <th>True group label Q1</th>\n",
              "    </tr>\n",
              "  </thead>\n",
              "  <tbody>\n",
              "    <tr>\n",
              "      <th>500</th>\n",
              "      <td>-3.515701</td>\n",
              "      <td>1.102161</td>\n",
              "      <td>-0.287709</td>\n",
              "      <td>0.879361</td>\n",
              "      <td>-0.354850</td>\n",
              "      <td>0.558971</td>\n",
              "      <td>0.378044</td>\n",
              "      <td>-0.011918</td>\n",
              "      <td>0.172512</td>\n",
              "      <td>-0.183192</td>\n",
              "      <td>3</td>\n",
              "      <td>3</td>\n",
              "    </tr>\n",
              "    <tr>\n",
              "      <th>501</th>\n",
              "      <td>2.038474</td>\n",
              "      <td>2.902089</td>\n",
              "      <td>-0.043734</td>\n",
              "      <td>0.704226</td>\n",
              "      <td>0.455680</td>\n",
              "      <td>-0.026692</td>\n",
              "      <td>0.221906</td>\n",
              "      <td>0.457166</td>\n",
              "      <td>0.069930</td>\n",
              "      <td>-0.089288</td>\n",
              "      <td>2</td>\n",
              "      <td>2</td>\n",
              "    </tr>\n",
              "    <tr>\n",
              "      <th>502</th>\n",
              "      <td>0.726409</td>\n",
              "      <td>-0.866515</td>\n",
              "      <td>-2.730632</td>\n",
              "      <td>-0.329038</td>\n",
              "      <td>-0.292327</td>\n",
              "      <td>0.692396</td>\n",
              "      <td>0.540673</td>\n",
              "      <td>0.179265</td>\n",
              "      <td>0.070838</td>\n",
              "      <td>-0.002915</td>\n",
              "      <td>0</td>\n",
              "      <td>0</td>\n",
              "    </tr>\n",
              "    <tr>\n",
              "      <th>503</th>\n",
              "      <td>1.161381</td>\n",
              "      <td>-1.670946</td>\n",
              "      <td>1.072363</td>\n",
              "      <td>1.415558</td>\n",
              "      <td>-0.180145</td>\n",
              "      <td>-0.100312</td>\n",
              "      <td>-0.084404</td>\n",
              "      <td>-0.023069</td>\n",
              "      <td>0.067785</td>\n",
              "      <td>-0.193098</td>\n",
              "      <td>4</td>\n",
              "      <td>4</td>\n",
              "    </tr>\n",
              "    <tr>\n",
              "      <th>504</th>\n",
              "      <td>1.209108</td>\n",
              "      <td>-1.678379</td>\n",
              "      <td>1.450704</td>\n",
              "      <td>0.999122</td>\n",
              "      <td>0.440204</td>\n",
              "      <td>0.115026</td>\n",
              "      <td>0.168915</td>\n",
              "      <td>0.013418</td>\n",
              "      <td>0.040908</td>\n",
              "      <td>-0.266459</td>\n",
              "      <td>4</td>\n",
              "      <td>4</td>\n",
              "    </tr>\n",
              "    <tr>\n",
              "      <th>505</th>\n",
              "      <td>1.858057</td>\n",
              "      <td>2.943741</td>\n",
              "      <td>0.157060</td>\n",
              "      <td>0.320543</td>\n",
              "      <td>-0.034876</td>\n",
              "      <td>0.031156</td>\n",
              "      <td>0.312861</td>\n",
              "      <td>0.028107</td>\n",
              "      <td>0.108597</td>\n",
              "      <td>-0.180504</td>\n",
              "      <td>2</td>\n",
              "      <td>2</td>\n",
              "    </tr>\n",
              "    <tr>\n",
              "      <th>506</th>\n",
              "      <td>2.104002</td>\n",
              "      <td>2.863989</td>\n",
              "      <td>0.096602</td>\n",
              "      <td>0.207603</td>\n",
              "      <td>0.090049</td>\n",
              "      <td>0.524067</td>\n",
              "      <td>-0.356449</td>\n",
              "      <td>0.419062</td>\n",
              "      <td>-0.479986</td>\n",
              "      <td>0.193900</td>\n",
              "      <td>2</td>\n",
              "      <td>2</td>\n",
              "    </tr>\n",
              "    <tr>\n",
              "      <th>507</th>\n",
              "      <td>1.367592</td>\n",
              "      <td>-1.702975</td>\n",
              "      <td>0.449175</td>\n",
              "      <td>1.399124</td>\n",
              "      <td>-0.465062</td>\n",
              "      <td>-0.031347</td>\n",
              "      <td>0.080909</td>\n",
              "      <td>0.189166</td>\n",
              "      <td>0.358997</td>\n",
              "      <td>0.075390</td>\n",
              "      <td>4</td>\n",
              "      <td>4</td>\n",
              "    </tr>\n",
              "    <tr>\n",
              "      <th>508</th>\n",
              "      <td>-3.732080</td>\n",
              "      <td>0.481286</td>\n",
              "      <td>-0.430979</td>\n",
              "      <td>0.636987</td>\n",
              "      <td>-0.025566</td>\n",
              "      <td>-0.095624</td>\n",
              "      <td>-0.184053</td>\n",
              "      <td>0.155543</td>\n",
              "      <td>-0.262990</td>\n",
              "      <td>-0.033977</td>\n",
              "      <td>3</td>\n",
              "      <td>3</td>\n",
              "    </tr>\n",
              "    <tr>\n",
              "      <th>509</th>\n",
              "      <td>-3.766431</td>\n",
              "      <td>0.642907</td>\n",
              "      <td>0.248622</td>\n",
              "      <td>0.311057</td>\n",
              "      <td>-0.258206</td>\n",
              "      <td>0.504275</td>\n",
              "      <td>-0.003926</td>\n",
              "      <td>-0.271057</td>\n",
              "      <td>-0.091393</td>\n",
              "      <td>-0.040534</td>\n",
              "      <td>3</td>\n",
              "      <td>3</td>\n",
              "    </tr>\n",
              "    <tr>\n",
              "      <th>510</th>\n",
              "      <td>2.336864</td>\n",
              "      <td>3.197340</td>\n",
              "      <td>0.193986</td>\n",
              "      <td>0.428406</td>\n",
              "      <td>0.076378</td>\n",
              "      <td>0.068917</td>\n",
              "      <td>0.375570</td>\n",
              "      <td>-0.069766</td>\n",
              "      <td>0.065912</td>\n",
              "      <td>0.025126</td>\n",
              "      <td>2</td>\n",
              "      <td>2</td>\n",
              "    </tr>\n",
              "    <tr>\n",
              "      <th>511</th>\n",
              "      <td>1.581703</td>\n",
              "      <td>2.872632</td>\n",
              "      <td>0.431799</td>\n",
              "      <td>0.109555</td>\n",
              "      <td>0.625448</td>\n",
              "      <td>-0.441162</td>\n",
              "      <td>0.505236</td>\n",
              "      <td>0.087820</td>\n",
              "      <td>0.085201</td>\n",
              "      <td>-0.279611</td>\n",
              "      <td>2</td>\n",
              "      <td>2</td>\n",
              "    </tr>\n",
              "    <tr>\n",
              "      <th>512</th>\n",
              "      <td>1.633778</td>\n",
              "      <td>2.846498</td>\n",
              "      <td>-0.177188</td>\n",
              "      <td>0.240441</td>\n",
              "      <td>-0.202004</td>\n",
              "      <td>0.207162</td>\n",
              "      <td>-0.125897</td>\n",
              "      <td>-0.235694</td>\n",
              "      <td>0.162329</td>\n",
              "      <td>-0.245305</td>\n",
              "      <td>2</td>\n",
              "      <td>2</td>\n",
              "    </tr>\n",
              "    <tr>\n",
              "      <th>513</th>\n",
              "      <td>1.456410</td>\n",
              "      <td>-1.912510</td>\n",
              "      <td>0.865021</td>\n",
              "      <td>1.768606</td>\n",
              "      <td>-0.133636</td>\n",
              "      <td>0.388968</td>\n",
              "      <td>-0.268363</td>\n",
              "      <td>0.080849</td>\n",
              "      <td>-0.073036</td>\n",
              "      <td>-0.140784</td>\n",
              "      <td>4</td>\n",
              "      <td>4</td>\n",
              "    </tr>\n",
              "    <tr>\n",
              "      <th>514</th>\n",
              "      <td>-3.979247</td>\n",
              "      <td>0.282158</td>\n",
              "      <td>0.281269</td>\n",
              "      <td>0.142031</td>\n",
              "      <td>-0.114030</td>\n",
              "      <td>-0.183749</td>\n",
              "      <td>0.055974</td>\n",
              "      <td>0.015976</td>\n",
              "      <td>-0.231479</td>\n",
              "      <td>0.000541</td>\n",
              "      <td>3</td>\n",
              "      <td>3</td>\n",
              "    </tr>\n",
              "    <tr>\n",
              "      <th>515</th>\n",
              "      <td>-0.050048</td>\n",
              "      <td>-0.933641</td>\n",
              "      <td>-2.861065</td>\n",
              "      <td>-0.544393</td>\n",
              "      <td>-0.136392</td>\n",
              "      <td>-0.342901</td>\n",
              "      <td>0.070359</td>\n",
              "      <td>0.172067</td>\n",
              "      <td>0.150989</td>\n",
              "      <td>-0.339578</td>\n",
              "      <td>0</td>\n",
              "      <td>0</td>\n",
              "    </tr>\n",
              "    <tr>\n",
              "      <th>516</th>\n",
              "      <td>2.367258</td>\n",
              "      <td>2.622887</td>\n",
              "      <td>-0.393139</td>\n",
              "      <td>0.330139</td>\n",
              "      <td>0.585839</td>\n",
              "      <td>0.265915</td>\n",
              "      <td>-0.568314</td>\n",
              "      <td>0.249809</td>\n",
              "      <td>-0.246473</td>\n",
              "      <td>0.273500</td>\n",
              "      <td>2</td>\n",
              "      <td>2</td>\n",
              "    </tr>\n",
              "    <tr>\n",
              "      <th>517</th>\n",
              "      <td>-3.807273</td>\n",
              "      <td>0.575336</td>\n",
              "      <td>-0.188792</td>\n",
              "      <td>0.277879</td>\n",
              "      <td>0.374185</td>\n",
              "      <td>0.611601</td>\n",
              "      <td>-0.357656</td>\n",
              "      <td>0.119083</td>\n",
              "      <td>0.102288</td>\n",
              "      <td>0.185270</td>\n",
              "      <td>3</td>\n",
              "      <td>3</td>\n",
              "    </tr>\n",
              "    <tr>\n",
              "      <th>518</th>\n",
              "      <td>0.873205</td>\n",
              "      <td>2.782652</td>\n",
              "      <td>0.500352</td>\n",
              "      <td>-0.225047</td>\n",
              "      <td>-0.252110</td>\n",
              "      <td>-0.389507</td>\n",
              "      <td>0.391306</td>\n",
              "      <td>0.255291</td>\n",
              "      <td>-0.010626</td>\n",
              "      <td>0.119125</td>\n",
              "      <td>2</td>\n",
              "      <td>2</td>\n",
              "    </tr>\n",
              "    <tr>\n",
              "      <th>519</th>\n",
              "      <td>-3.396776</td>\n",
              "      <td>0.711320</td>\n",
              "      <td>-0.404992</td>\n",
              "      <td>0.275730</td>\n",
              "      <td>0.148080</td>\n",
              "      <td>0.433332</td>\n",
              "      <td>0.227379</td>\n",
              "      <td>0.180291</td>\n",
              "      <td>0.269347</td>\n",
              "      <td>-0.137135</td>\n",
              "      <td>3</td>\n",
              "      <td>3</td>\n",
              "    </tr>\n",
              "  </tbody>\n",
              "</table>\n",
              "</div>\n",
              "    <div class=\"colab-df-buttons\">\n",
              "\n",
              "  <div class=\"colab-df-container\">\n",
              "    <button class=\"colab-df-convert\" onclick=\"convertToInteractive('df-e3eaaebe-4237-445a-9d31-cacef5c91273')\"\n",
              "            title=\"Convert this dataframe to an interactive table.\"\n",
              "            style=\"display:none;\">\n",
              "\n",
              "  <svg xmlns=\"http://www.w3.org/2000/svg\" height=\"24px\" viewBox=\"0 -960 960 960\">\n",
              "    <path d=\"M120-120v-720h720v720H120Zm60-500h600v-160H180v160Zm220 220h160v-160H400v160Zm0 220h160v-160H400v160ZM180-400h160v-160H180v160Zm440 0h160v-160H620v160ZM180-180h160v-160H180v160Zm440 0h160v-160H620v160Z\"/>\n",
              "  </svg>\n",
              "    </button>\n",
              "\n",
              "  <style>\n",
              "    .colab-df-container {\n",
              "      display:flex;\n",
              "      gap: 12px;\n",
              "    }\n",
              "\n",
              "    .colab-df-convert {\n",
              "      background-color: #E8F0FE;\n",
              "      border: none;\n",
              "      border-radius: 50%;\n",
              "      cursor: pointer;\n",
              "      display: none;\n",
              "      fill: #1967D2;\n",
              "      height: 32px;\n",
              "      padding: 0 0 0 0;\n",
              "      width: 32px;\n",
              "    }\n",
              "\n",
              "    .colab-df-convert:hover {\n",
              "      background-color: #E2EBFA;\n",
              "      box-shadow: 0px 1px 2px rgba(60, 64, 67, 0.3), 0px 1px 3px 1px rgba(60, 64, 67, 0.15);\n",
              "      fill: #174EA6;\n",
              "    }\n",
              "\n",
              "    .colab-df-buttons div {\n",
              "      margin-bottom: 4px;\n",
              "    }\n",
              "\n",
              "    [theme=dark] .colab-df-convert {\n",
              "      background-color: #3B4455;\n",
              "      fill: #D2E3FC;\n",
              "    }\n",
              "\n",
              "    [theme=dark] .colab-df-convert:hover {\n",
              "      background-color: #434B5C;\n",
              "      box-shadow: 0px 1px 3px 1px rgba(0, 0, 0, 0.15);\n",
              "      filter: drop-shadow(0px 1px 2px rgba(0, 0, 0, 0.3));\n",
              "      fill: #FFFFFF;\n",
              "    }\n",
              "  </style>\n",
              "\n",
              "    <script>\n",
              "      const buttonEl =\n",
              "        document.querySelector('#df-e3eaaebe-4237-445a-9d31-cacef5c91273 button.colab-df-convert');\n",
              "      buttonEl.style.display =\n",
              "        google.colab.kernel.accessAllowed ? 'block' : 'none';\n",
              "\n",
              "      async function convertToInteractive(key) {\n",
              "        const element = document.querySelector('#df-e3eaaebe-4237-445a-9d31-cacef5c91273');\n",
              "        const dataTable =\n",
              "          await google.colab.kernel.invokeFunction('convertToInteractive',\n",
              "                                                    [key], {});\n",
              "        if (!dataTable) return;\n",
              "\n",
              "        const docLinkHtml = 'Like what you see? Visit the ' +\n",
              "          '<a target=\"_blank\" href=https://colab.research.google.com/notebooks/data_table.ipynb>data table notebook</a>'\n",
              "          + ' to learn more about interactive tables.';\n",
              "        element.innerHTML = '';\n",
              "        dataTable['output_type'] = 'display_data';\n",
              "        await google.colab.output.renderOutput(dataTable, element);\n",
              "        const docLink = document.createElement('div');\n",
              "        docLink.innerHTML = docLinkHtml;\n",
              "        element.appendChild(docLink);\n",
              "      }\n",
              "    </script>\n",
              "  </div>\n",
              "\n",
              "\n",
              "    <div id=\"df-3ec0a416-1875-4208-b91b-7733e6ca223c\">\n",
              "      <button class=\"colab-df-quickchart\" onclick=\"quickchart('df-3ec0a416-1875-4208-b91b-7733e6ca223c')\"\n",
              "                title=\"Suggest charts\"\n",
              "                style=\"display:none;\">\n",
              "\n",
              "<svg xmlns=\"http://www.w3.org/2000/svg\" height=\"24px\"viewBox=\"0 0 24 24\"\n",
              "     width=\"24px\">\n",
              "    <g>\n",
              "        <path d=\"M19 3H5c-1.1 0-2 .9-2 2v14c0 1.1.9 2 2 2h14c1.1 0 2-.9 2-2V5c0-1.1-.9-2-2-2zM9 17H7v-7h2v7zm4 0h-2V7h2v10zm4 0h-2v-4h2v4z\"/>\n",
              "    </g>\n",
              "</svg>\n",
              "      </button>\n",
              "\n",
              "<style>\n",
              "  .colab-df-quickchart {\n",
              "      --bg-color: #E8F0FE;\n",
              "      --fill-color: #1967D2;\n",
              "      --hover-bg-color: #E2EBFA;\n",
              "      --hover-fill-color: #174EA6;\n",
              "      --disabled-fill-color: #AAA;\n",
              "      --disabled-bg-color: #DDD;\n",
              "  }\n",
              "\n",
              "  [theme=dark] .colab-df-quickchart {\n",
              "      --bg-color: #3B4455;\n",
              "      --fill-color: #D2E3FC;\n",
              "      --hover-bg-color: #434B5C;\n",
              "      --hover-fill-color: #FFFFFF;\n",
              "      --disabled-bg-color: #3B4455;\n",
              "      --disabled-fill-color: #666;\n",
              "  }\n",
              "\n",
              "  .colab-df-quickchart {\n",
              "    background-color: var(--bg-color);\n",
              "    border: none;\n",
              "    border-radius: 50%;\n",
              "    cursor: pointer;\n",
              "    display: none;\n",
              "    fill: var(--fill-color);\n",
              "    height: 32px;\n",
              "    padding: 0;\n",
              "    width: 32px;\n",
              "  }\n",
              "\n",
              "  .colab-df-quickchart:hover {\n",
              "    background-color: var(--hover-bg-color);\n",
              "    box-shadow: 0 1px 2px rgba(60, 64, 67, 0.3), 0 1px 3px 1px rgba(60, 64, 67, 0.15);\n",
              "    fill: var(--button-hover-fill-color);\n",
              "  }\n",
              "\n",
              "  .colab-df-quickchart-complete:disabled,\n",
              "  .colab-df-quickchart-complete:disabled:hover {\n",
              "    background-color: var(--disabled-bg-color);\n",
              "    fill: var(--disabled-fill-color);\n",
              "    box-shadow: none;\n",
              "  }\n",
              "\n",
              "  .colab-df-spinner {\n",
              "    border: 2px solid var(--fill-color);\n",
              "    border-color: transparent;\n",
              "    border-bottom-color: var(--fill-color);\n",
              "    animation:\n",
              "      spin 1s steps(1) infinite;\n",
              "  }\n",
              "\n",
              "  @keyframes spin {\n",
              "    0% {\n",
              "      border-color: transparent;\n",
              "      border-bottom-color: var(--fill-color);\n",
              "      border-left-color: var(--fill-color);\n",
              "    }\n",
              "    20% {\n",
              "      border-color: transparent;\n",
              "      border-left-color: var(--fill-color);\n",
              "      border-top-color: var(--fill-color);\n",
              "    }\n",
              "    30% {\n",
              "      border-color: transparent;\n",
              "      border-left-color: var(--fill-color);\n",
              "      border-top-color: var(--fill-color);\n",
              "      border-right-color: var(--fill-color);\n",
              "    }\n",
              "    40% {\n",
              "      border-color: transparent;\n",
              "      border-right-color: var(--fill-color);\n",
              "      border-top-color: var(--fill-color);\n",
              "    }\n",
              "    60% {\n",
              "      border-color: transparent;\n",
              "      border-right-color: var(--fill-color);\n",
              "    }\n",
              "    80% {\n",
              "      border-color: transparent;\n",
              "      border-right-color: var(--fill-color);\n",
              "      border-bottom-color: var(--fill-color);\n",
              "    }\n",
              "    90% {\n",
              "      border-color: transparent;\n",
              "      border-bottom-color: var(--fill-color);\n",
              "    }\n",
              "  }\n",
              "</style>\n",
              "\n",
              "      <script>\n",
              "        async function quickchart(key) {\n",
              "          const quickchartButtonEl =\n",
              "            document.querySelector('#' + key + ' button');\n",
              "          quickchartButtonEl.disabled = true;  // To prevent multiple clicks.\n",
              "          quickchartButtonEl.classList.add('colab-df-spinner');\n",
              "          try {\n",
              "            const charts = await google.colab.kernel.invokeFunction(\n",
              "                'suggestCharts', [key], {});\n",
              "          } catch (error) {\n",
              "            console.error('Error during call to suggestCharts:', error);\n",
              "          }\n",
              "          quickchartButtonEl.classList.remove('colab-df-spinner');\n",
              "          quickchartButtonEl.classList.add('colab-df-quickchart-complete');\n",
              "        }\n",
              "        (() => {\n",
              "          let quickchartButtonEl =\n",
              "            document.querySelector('#df-3ec0a416-1875-4208-b91b-7733e6ca223c button');\n",
              "          quickchartButtonEl.style.display =\n",
              "            google.colab.kernel.accessAllowed ? 'block' : 'none';\n",
              "        })();\n",
              "      </script>\n",
              "    </div>\n",
              "\n",
              "    </div>\n",
              "  </div>\n"
            ],
            "application/vnd.google.colaboratory.intrinsic+json": {
              "type": "dataframe",
              "summary": "{\n  \"name\": \"df_plot_Q1\",\n  \"rows\": 20,\n  \"fields\": [\n    {\n      \"column\": \"PC1\",\n      \"properties\": {\n        \"dtype\": \"number\",\n        \"std\": 2.498316660065957,\n        \"min\": -3.979247223346153,\n        \"max\": 2.367258373161997,\n        \"num_unique_values\": 20,\n        \"samples\": [\n          -3.5157012377631043,\n          -3.807273111107249,\n          -0.050047801814834834\n        ],\n        \"semantic_type\": \"\",\n        \"description\": \"\"\n      }\n    },\n    {\n      \"column\": \"PC2\",\n      \"properties\": {\n        \"dtype\": \"number\",\n        \"std\": 1.8742613500261638,\n        \"min\": -1.9125099808665451,\n        \"max\": 3.197340468432509,\n        \"num_unique_values\": 20,\n        \"samples\": [\n          1.1021614336762255,\n          0.575336483246655,\n          -0.9336411436061907\n        ],\n        \"semantic_type\": \"\",\n        \"description\": \"\"\n      }\n    },\n    {\n      \"column\": \"PC3\",\n      \"properties\": {\n        \"dtype\": \"number\",\n        \"std\": 1.0511923074126177,\n        \"min\": -2.8610651066098467,\n        \"max\": 1.450703602258578,\n        \"num_unique_values\": 20,\n        \"samples\": [\n          -0.2877094895733946,\n          -0.18879245492441146,\n          -2.8610651066098467\n        ],\n        \"semantic_type\": \"\",\n        \"description\": \"\"\n      }\n    },\n    {\n      \"column\": \"PC4\",\n      \"properties\": {\n        \"dtype\": \"number\",\n        \"std\": 0.5905842794131352,\n        \"min\": -0.5443932974332313,\n        \"max\": 1.768605643071719,\n        \"num_unique_values\": 20,\n        \"samples\": [\n          0.8793609198282221,\n          0.27787938739689705,\n          -0.5443932974332313\n        ],\n        \"semantic_type\": \"\",\n        \"description\": \"\"\n      }\n    },\n    {\n      \"column\": \"PC5\",\n      \"properties\": {\n        \"dtype\": \"number\",\n        \"std\": 0.32348202392080616,\n        \"min\": -0.46506230986947505,\n        \"max\": 0.6254482485305513,\n        \"num_unique_values\": 20,\n        \"samples\": [\n          -0.35485028370888994,\n          0.374185306693736,\n          -0.1363920563016605\n        ],\n        \"semantic_type\": \"\",\n        \"description\": \"\"\n      }\n    },\n    {\n      \"column\": \"PC6\",\n      \"properties\": {\n        \"dtype\": \"number\",\n        \"std\": 0.3476045825614028,\n        \"min\": -0.44116207843004746,\n        \"max\": 0.6923959330606821,\n        \"num_unique_values\": 20,\n        \"samples\": [\n          0.5589709020234167,\n          0.6116010762802865,\n          -0.342900590647132\n        ],\n        \"semantic_type\": \"\",\n        \"description\": \"\"\n      }\n    },\n    {\n      \"column\": \"PC7\",\n      \"properties\": {\n        \"dtype\": \"number\",\n        \"std\": 0.311048872450825,\n        \"min\": -0.568314101414386,\n        \"max\": 0.5406732461063732,\n        \"num_unique_values\": 20,\n        \"samples\": [\n          0.3780438113277666,\n          -0.35765647130130845,\n          0.07035926086985636\n        ],\n        \"semantic_type\": \"\",\n        \"description\": \"\"\n      }\n    },\n    {\n      \"column\": \"PC8\",\n      \"properties\": {\n        \"dtype\": \"number\",\n        \"std\": 0.1824326536856494,\n        \"min\": -0.27105721691269585,\n        \"max\": 0.4571660569459694,\n        \"num_unique_values\": 20,\n        \"samples\": [\n          -0.01191756718394717,\n          0.11908337744301532,\n          0.1720665634291928\n        ],\n        \"semantic_type\": \"\",\n        \"description\": \"\"\n      }\n    },\n    {\n      \"column\": \"PC9\",\n      \"properties\": {\n        \"dtype\": \"number\",\n        \"std\": 0.1990264988299875,\n        \"min\": -0.479986042921579,\n        \"max\": 0.35899679821595654,\n        \"num_unique_values\": 20,\n        \"samples\": [\n          0.17251198907026466,\n          0.1022877237384944,\n          0.1509893409982461\n        ],\n        \"semantic_type\": \"\",\n        \"description\": \"\"\n      }\n    },\n    {\n      \"column\": \"PC10\",\n      \"properties\": {\n        \"dtype\": \"number\",\n        \"std\": 0.1725067611006697,\n        \"min\": -0.33957825911925793,\n        \"max\": 0.27349980432763266,\n        \"num_unique_values\": 20,\n        \"samples\": [\n          -0.183191898863112,\n          0.18527044007413976,\n          -0.33957825911925793\n        ],\n        \"semantic_type\": \"\",\n        \"description\": \"\"\n      }\n    },\n    {\n      \"column\": \"cluster group Q1\",\n      \"properties\": {\n        \"dtype\": \"number\",\n        \"std\": 1,\n        \"min\": 0,\n        \"max\": 4,\n        \"num_unique_values\": 4,\n        \"samples\": [\n          2,\n          4,\n          3\n        ],\n        \"semantic_type\": \"\",\n        \"description\": \"\"\n      }\n    },\n    {\n      \"column\": \"True group label Q1\",\n      \"properties\": {\n        \"dtype\": \"number\",\n        \"std\": 1,\n        \"min\": 0,\n        \"max\": 4,\n        \"num_unique_values\": 4,\n        \"samples\": [\n          2,\n          4,\n          3\n        ],\n        \"semantic_type\": \"\",\n        \"description\": \"\"\n      }\n    }\n  ]\n}"
            }
          },
          "metadata": {},
          "execution_count": 36
        }
      ]
    },
    {
      "cell_type": "markdown",
      "source": [
        "# Final step confusoin matirx"
      ],
      "metadata": {
        "id": "Asqe9vjK_faC"
      }
    },
    {
      "cell_type": "code",
      "source": [
        "confusion_matrix_Q1 = confusion_matrix(df_plot_Q1[\"True group label Q1\"], df_plot_Q1[\"cluster group Q1\"])\n",
        "print(confusion_matrix_Q1)"
      ],
      "metadata": {
        "colab": {
          "base_uri": "https://localhost:8080/"
        },
        "id": "5IOrVse2_jTk",
        "outputId": "1921aad3-2f55-4b9c-bfd1-e38c8b335dc0"
      },
      "execution_count": 37,
      "outputs": [
        {
          "output_type": "stream",
          "name": "stdout",
          "text": [
            "[[200   0   0   0   0]\n",
            " [  0 200   0   0   0]\n",
            " [  0   0 200   0   0]\n",
            " [  0   0   0 200   0]\n",
            " [  0   0   0   0 200]]\n"
          ]
        }
      ]
    },
    {
      "cell_type": "markdown",
      "source": [
        "# 2. Clustering Fashion-MNIST using $k$-means"
      ],
      "metadata": {
        "id": "a2qcKggmIH8T"
      }
    },
    {
      "cell_type": "code",
      "source": [
        "import numpy as np\n",
        "from sklearn.datasets import fetch_openml\n",
        "from sklearn.preprocessing import StandardScaler, scale\n",
        "\n",
        "# Load Fashion-MNIST from OpenML\n",
        "# Classes (0-9): T-shirt/top, Trouser, Pullover, Dress, Coat, Sandal, Shirt, Sneaker, Bag, Ankle boot\n",
        "X_2, y_2 = fetch_openml(\"Fashion-MNIST\", version=1, as_frame=False, parser=\"auto\", return_X_y=True)\n",
        "print(y_2)\n",
        "y_2 = y_2.astype(int)\n",
        "\n",
        "print(type(X_2),X_2.shape)\n",
        "print(type(y_2),y_2.shape)"
      ],
      "metadata": {
        "colab": {
          "base_uri": "https://localhost:8080/"
        },
        "id": "B9IQwhgcIVOl",
        "outputId": "9762765e-7748-40fd-8c8a-796449588baa"
      },
      "execution_count": 38,
      "outputs": [
        {
          "output_type": "stream",
          "name": "stdout",
          "text": [
            "['9' '0' '0' ... '8' '1' '5']\n",
            "<class 'numpy.ndarray'> (70000, 784)\n",
            "<class 'numpy.ndarray'> (70000,)\n"
          ]
        }
      ]
    },
    {
      "cell_type": "code",
      "source": [
        "n_samples, n_features_dim = X_2.shape\n",
        "print(n_samples, n_features_dim )\n",
        "class_l=(np.unique(y_2)).tolist()\n",
        "n_class= len(class_l)#0,1,2,3,..,9\n",
        "class_l"
      ],
      "metadata": {
        "colab": {
          "base_uri": "https://localhost:8080/"
        },
        "id": "FWfikrLHEatv",
        "outputId": "7239debd-9b59-48eb-8d63-28b2d7113216"
      },
      "execution_count": 39,
      "outputs": [
        {
          "output_type": "stream",
          "name": "stdout",
          "text": [
            "70000 784\n"
          ]
        },
        {
          "output_type": "execute_result",
          "data": {
            "text/plain": [
              "[0, 1, 2, 3, 4, 5, 6, 7, 8, 9]"
            ]
          },
          "metadata": {},
          "execution_count": 39
        }
      ]
    },
    {
      "cell_type": "code",
      "source": [
        "\n",
        "X_2_scaled=scale(X_2)"
      ],
      "metadata": {
        "id": "byEUel0QDkaZ"
      },
      "execution_count": 40,
      "outputs": []
    },
    {
      "cell_type": "markdown",
      "source": [
        "# 2.1 plot a few of the **images**"
      ],
      "metadata": {
        "id": "IIoogVjIEL8_"
      }
    },
    {
      "cell_type": "code",
      "source": [
        "print(y_2)"
      ],
      "metadata": {
        "id": "0REsDBunNmEl",
        "colab": {
          "base_uri": "https://localhost:8080/"
        },
        "outputId": "7fde40eb-d494-4bf9-b943-48b771bccff3"
      },
      "execution_count": 41,
      "outputs": [
        {
          "output_type": "stream",
          "name": "stdout",
          "text": [
            "[9 0 0 ... 8 1 5]\n"
          ]
        }
      ]
    },
    {
      "cell_type": "code",
      "source": [
        "print(len(X_2_scaled[1]))\n",
        "X_2_scaled[1][:30]"
      ],
      "metadata": {
        "colab": {
          "base_uri": "https://localhost:8080/"
        },
        "id": "u0PQ_clXDsPA",
        "outputId": "3d80210e-27b5-4664-a2a5-0bfa6e74d085"
      },
      "execution_count": 42,
      "outputs": [
        {
          "output_type": "stream",
          "name": "stdout",
          "text": [
            "784\n"
          ]
        },
        {
          "output_type": "execute_result",
          "data": {
            "text/plain": [
              "array([-0.00883265, -0.02162585, -0.0287172 , -0.04021617, -0.05622469,\n",
              "        0.10120863, -0.09807714, -0.15614996, -0.23777258, -0.37734369,\n",
              "        0.1401428 ,  2.15295145,  0.74199698,  0.04729691, -0.03627326,\n",
              "       -0.15520693,  0.52347794,  2.02936177,  2.06949549,  0.17371197,\n",
              "       -0.20263522, -0.13975474, -0.10924879, -0.09163676, -0.06786812,\n",
              "       -0.04942413, -0.0323346 , -0.01403287, -0.01296671, -0.01886421])"
            ]
          },
          "metadata": {},
          "execution_count": 42
        }
      ]
    },
    {
      "cell_type": "code",
      "source": [
        "print(X_2[1])"
      ],
      "metadata": {
        "colab": {
          "base_uri": "https://localhost:8080/"
        },
        "id": "3kefEcMSmCt4",
        "outputId": "2d250633-d07d-4957-e9e8-34bf5507053b"
      },
      "execution_count": 43,
      "outputs": [
        {
          "output_type": "stream",
          "name": "stdout",
          "text": [
            "[  0   0   0   0   0   1   0   0   0   0  41 188 103  54  48  43  87 168\n",
            " 133  16   0   0   0   0   0   0   0   0   0   0   0   1   0   0   0  49\n",
            " 136 219 216 228 236 255 255 255 255 217 215 254 231 160  45   0   0   0\n",
            "   0   0   0   0   0   0   0  14 176 222 224 212 203 198 196 200 215 204\n",
            " 202 201 201 201 209 218 224 164   0   0   0   0   0   0   0   0   0 188\n",
            " 219 200 198 202 198 199 199 201 196 198 198 200 200 200 200 201 200 225\n",
            "  41   0   0   0   0   0   0   0  51 219 199 203 203 212 238 248 250 245\n",
            " 249 246 247 252 248 235 207 203 203 222 140   0   0   0   0   0   0   0\n",
            " 116 226 206 204 207 204 101  75  47  73  48  50  45  51  63 113 222 202\n",
            " 206 220 224   0   0   0   0   0   0   0 200 222 209 203 215 200   0  70\n",
            "  98   0 103  59  68  71  49   0 219 206 214 210 250  38   0   0   0   0\n",
            "   0   0 247 218 212 210 215 214   0 254 243 139 255 174 251 255 205   0\n",
            " 215 217 214 208 220  95   0   0   0   0   0  45 226 214 214 215 224 205\n",
            "   0  42  35  60  16  17  12  13  70   0 189 216 212 206 212 156   0   0\n",
            "   0   0   0 164 235 214 211 220 216 201  52  71  89  94  83  78  70  76\n",
            "  92  87 206 207 222 213 219 208   0   0   0   0   0 106 187 223 237 248\n",
            " 211 198 252 250 248 245 248 252 253 250 252 239 201 212 225 215 193 113\n",
            "   0   0   0   0   0   0   0  17  54 159 222 193 208 192 197 200 200 200\n",
            " 200 201 203 195 210 165   0   0   0   0   0   0   0   0   0   0   0   0\n",
            "   0  47 225 192 214 203 206 204 204 205 206 204 212 197 218 107   0   0\n",
            "   0   0   0   0   0   0   0   0   1   6   0  46 212 195 212 202 206 205\n",
            " 204 205 206 204 212 200 218  91   0   3   1   0   0   0   0   0   0   0\n",
            "   0   1   0  11 197 199 205 202 205 206 204 205 207 204 205 205 218  77\n",
            "   0   5   0   0   0   0   0   0   0   0   0   3   0   2 191 198 201 205\n",
            " 206 205 205 206 209 206 199 209 219  74   0   5   0   0   0   0   0   0\n",
            "   0   0   0   2   0   0 188 197 200 207 207 204 207 207 210 208 198 207\n",
            " 221  72   0   4   0   0   0   0   0   0   0   0   0   2   0   0 215 198\n",
            " 203 206 208 205 207 207 210 208 200 202 222  75   0   4   0   0   0   0\n",
            "   0   0   0   0   0   1   0   0 212 198 209 206 209 206 208 207 211 206\n",
            " 205 198 221  80   0   3   0   0   0   0   0   0   0   0   0   1   0   0\n",
            " 204 201 205 208 207 205 211 205 210 210 209 195 221  96   0   3   0   0\n",
            "   0   0   0   0   0   0   0   1   0   0 202 201 205 209 207 205 213 206\n",
            " 210 209 210 194 217 105   0   2   0   0   0   0   0   0   0   0   0   1\n",
            "   0   0 204 204 205 208 207 205 215 207 210 208 211 193 213 115   0   2\n",
            "   0   0   0   0   0   0   0   0   0   0   0   0 204 207 207 208 206 206\n",
            " 215 210 210 207 212 195 210 118   0   2   0   0   0   0   0   0   0   0\n",
            "   0   1   0   0 198 208 208 208 204 207 212 212 210 207 211 196 207 121\n",
            "   0   1   0   0   0   0   0   0   0   0   0   1   0   0 198 210 207 208\n",
            " 206 209 213 212 211 207 210 197 207 124   0   1   0   0   0   0   0   0\n",
            "   0   0   0   0   0   0 172 210 203 201 199 204 207 205 204 201 205 197\n",
            " 206 127   0   0   0   0   0   0   0   0   0   0   0   0   0   0 188 221\n",
            " 214 234 236 238 244 244 244 240 243 214 224 162   0   2   0   0   0   0\n",
            "   0   0   0   0   0   1   0   0 139 146 130 135 135 137 125 124 125 121\n",
            " 119 114 130  76   0   0   0   0   0   0]\n"
          ]
        }
      ]
    },
    {
      "cell_type": "code",
      "source": [
        "np.where(y_2 == 0)[0]"
      ],
      "metadata": {
        "colab": {
          "base_uri": "https://localhost:8080/"
        },
        "id": "fP5j2pDUFT-W",
        "outputId": "9982b39c-1410-42db-9fff-b5cdb1c0499a"
      },
      "execution_count": 50,
      "outputs": [
        {
          "output_type": "execute_result",
          "data": {
            "text/plain": [
              "array([    1,     2,     4, ..., 69958, 69980, 69981])"
            ]
          },
          "metadata": {},
          "execution_count": 50
        }
      ]
    },
    {
      "cell_type": "code",
      "source": [
        "np.where(y_2 == 0)[0][0]"
      ],
      "metadata": {
        "colab": {
          "base_uri": "https://localhost:8080/"
        },
        "id": "gg8vKy3_KFQ2",
        "outputId": "ea09810b-522b-42d8-8ba7-8de8928bed4d"
      },
      "execution_count": 51,
      "outputs": [
        {
          "output_type": "execute_result",
          "data": {
            "text/plain": [
              "np.int64(1)"
            ]
          },
          "metadata": {},
          "execution_count": 51
        }
      ]
    },
    {
      "cell_type": "code",
      "source": [
        "\n",
        "\n",
        "plt.figure(figsize= (10, 5))\n",
        "for ii in np.arange(10): ## 10 classes\n",
        "    plt.subplot(2, 5, ii+1)\n",
        "    index=np.where(y_2 == ii)[0][0]# 1st inde for class=ii\n",
        "    plt.imshow(np.reshape(X_2[index],(28,28)), cmap='Greys',interpolation='nearest')\n",
        "    plt.title(class_l[ii])\n",
        "    plt.axis('off')\n",
        "plt.show()"
      ],
      "metadata": {
        "colab": {
          "base_uri": "https://localhost:8080/",
          "height": 402
        },
        "id": "ju5T23XfEFxv",
        "outputId": "977f6316-27c0-4cd7-a9cc-2c966df92014"
      },
      "execution_count": 45,
      "outputs": [
        {
          "output_type": "display_data",
          "data": {
            "text/plain": [
              "<Figure size 1000x500 with 10 Axes>"
            ],
            "image/png": "[encoded data removed]"
          },
          "metadata": {}
        }
      ]
    },
    {
      "cell_type": "markdown",
      "source": [
        "# 2.2"
      ],
      "metadata": {
        "id": "FtUvSphuL4L1"
      }
    },
    {
      "cell_type": "code",
      "source": [
        "n_each_class= [len(np.where(y_2 == i)[0]) for i in range(10)]\n",
        "n_each_class"
      ],
      "metadata": {
        "id": "hsawSe9LLIJH",
        "outputId": "36462513-02c7-4d85-efdb-cc0988b2da1e",
        "colab": {
          "base_uri": "https://localhost:8080/"
        }
      },
      "execution_count": 53,
      "outputs": [
        {
          "output_type": "execute_result",
          "data": {
            "text/plain": [
              "[7000, 7000, 7000, 7000, 7000, 7000, 7000, 7000, 7000, 7000]"
            ]
          },
          "metadata": {},
          "execution_count": 53
        }
      ]
    },
    {
      "cell_type": "markdown",
      "source": [
        "So we have equal number of clothes for each class"
      ],
      "metadata": {
        "id": "lXm0fo_RL-AF"
      }
    },
    {
      "cell_type": "markdown",
      "source": [
        "# 3. Dimensionality reduction for Fashion-MNIST"
      ],
      "metadata": {
        "id": "6Bpow7TrZ7iB"
      }
    },
    {
      "cell_type": "code",
      "source": [
        "# your code here"
      ],
      "metadata": {
        "id": "ejYYENCQZ9tj"
      },
      "execution_count": 46,
      "outputs": []
    },
    {
      "cell_type": "markdown",
      "source": [
        "# 4. Clustering Fashion-MNIST using spectral clustering"
      ],
      "metadata": {
        "id": "fOTFcjWOfCZU"
      }
    },
    {
      "cell_type": "code",
      "source": [
        "# your code here"
      ],
      "metadata": {
        "id": "MRB_nw21fI24"
      },
      "execution_count": 47,
      "outputs": []
    }
  ]
}