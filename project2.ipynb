{
  "nbformat": 4,
  "nbformat_minor": 0,
  "metadata": {
    "colab": {
      "provenance": []
    },
    "kernelspec": {
      "name": "python3",
      "display_name": "Python 3"
    },
    "language_info": {
      "name": "python"
    }
  },
  "cells": [
    {
      "cell_type": "markdown",
      "source": [
        "Math 5750/6880: Mathematics of Data Science \\\n",
        "Project 2"
      ],
      "metadata": {
        "id": "0gdC70xxFyc4"
      }
    },
    {
      "cell_type": "markdown",
      "source": [
        "# 1. Clustering Gaussian Blobs using $k$-means"
      ],
      "metadata": {
        "id": "i9_7SnpMGKDJ"
      }
    },
    {
      "cell_type": "code",
      "source": [
        "# imports and setup\n",
        "import matplotlib.pyplot as plt\n",
        "\n",
        "import pandas as pd\n",
        "import numpy as np\n",
        "\n",
        "from sklearn.cluster import KMeans, AgglomerativeClustering\n",
        "\n",
        "from sklearn import tree, svm, metrics\n",
        "from sklearn.neighbors import KNeighborsClassifier\n",
        "from sklearn.model_selection import train_test_split, cross_val_predict, cross_val_score, KFold\n",
        "from sklearn.datasets import load_digits\n",
        "from sklearn.preprocessing import scale\n",
        "from sklearn.datasets import fetch_20newsgroups\n",
        "from sklearn.metrics import accuracy_score\n",
        "from sklearn.feature_extraction.text import TfidfVectorizer\n",
        "from sklearn.feature_extraction.text import CountVectorizer\n",
        "from sklearn.naive_bayes import MultinomialNB\n",
        "\n",
        "from sklearn.cluster import DBSCAN\n",
        "\n",
        "from sklearn.decomposition import PCA\n",
        "\n",
        "import nltk\n",
        "from nltk.corpus import stopwords\n",
        "\n",
        "import re\n",
        "\n",
        "import seaborn as sns"
      ],
      "metadata": {
        "id": "PV2AncxTRjgb"
      },
      "execution_count": 4,
      "outputs": []
    },
    {
      "cell_type": "code",
      "source": [
        "\n",
        "from sklearn.datasets import make_blobs\n",
        "from sklearn.preprocessing import StandardScaler\n",
        "\n",
        "# Generate 5 Gaussian blobs in 10 dimensions\n",
        "X, y_true = make_blobs(\n",
        "    n_samples=1000,\n",
        "    centers=5,\n",
        "    n_features=10,\n",
        "    cluster_std=1.5,\n",
        "    random_state=1)        # reproducibility\n",
        "X = StandardScaler().fit_transform(X)\n",
        "\n",
        "print(type(X),X.shape)\n",
        "print(type(y_true),y_true.shape)"
      ],
      "metadata": {
        "colab": {
          "base_uri": "https://localhost:8080/"
        },
        "id": "AB136H0PGKq1",
        "outputId": "83c00a52-efdc-4280-a44c-74c2f8de7b5e"
      },
      "execution_count": 5,
      "outputs": [
        {
          "output_type": "stream",
          "name": "stdout",
          "text": [
            "<class 'numpy.ndarray'> (1000, 10)\n",
            "<class 'numpy.ndarray'> (1000,)\n"
          ]
        }
      ]
    },
    {
      "cell_type": "code",
      "source": [
        "X"
      ],
      "metadata": {
        "colab": {
          "base_uri": "https://localhost:8080/"
        },
        "id": "4uVru2q3YY2S",
        "outputId": "c56169b2-fc8d-4edb-f4ba-29d91e60d006"
      },
      "execution_count": 6,
      "outputs": [
        {
          "output_type": "execute_result",
          "data": {
            "text/plain": [
              "array([[-0.3037564 ,  0.27194296, -1.2984626 , ..., -0.22927702,\n",
              "         0.60290063,  0.2063805 ],\n",
              "       [-0.20053269, -0.30437116, -0.97295527, ..., -0.12643629,\n",
              "         1.27256776, -0.06419889],\n",
              "       [ 1.35097255,  0.93048323, -0.43242865, ..., -0.45356427,\n",
              "         1.06455736, -1.02736984],\n",
              "       ...,\n",
              "       [-1.45953712, -1.64844822,  1.8947674 , ...,  1.30241496,\n",
              "        -1.92201715,  0.78623258],\n",
              "       [-0.5009657 ,  0.16483753, -1.07666519, ..., -0.55959232,\n",
              "         1.78642312,  0.35648516],\n",
              "       [ 0.71776702,  1.26195986, -0.0965376 , ..., -1.2768736 ,\n",
              "        -0.5557099 ,  1.08032666]])"
            ]
          },
          "metadata": {},
          "execution_count": 6
        }
      ]
    },
    {
      "cell_type": "markdown",
      "source": [
        "# Find (\"optimal\") number of clusters k first"
      ],
      "metadata": {
        "id": "0EztRgFaU4C8"
      }
    },
    {
      "cell_type": "markdown",
      "source": [
        "method1\n",
        "[Silhouette analysis](http://scikit-learn.org/stable/auto_examples/cluster/plot_kmeans_silhouette_analysis.html)"
      ],
      "metadata": {
        "id": "fLRJVjwgVAbR"
      }
    },
    {
      "cell_type": "code",
      "source": [
        "#\n",
        "#2\n",
        "from sklearn.metrics import silhouette_samples, silhouette_score\n",
        "range_n_clusters_k = [2, 3, 4, 5,6,7,8,9]\n",
        "silhouette_avg_k = []\n",
        "\n",
        "\n",
        "for n_clusters_k in range_n_clusters_k:\n",
        "    clusterer_k = KMeans(n_clusters=n_clusters_k, random_state=10)\n",
        "    cluster_labels_k = clusterer_k.fit_predict(X)\n",
        "    silhouette_avg_k.append(silhouette_score(X, cluster_labels_k))\n",
        "\n",
        "print(silhouette_avg_k)\n",
        "plt.plot(range_n_clusters_k,silhouette_avg_k)\n",
        "plt.xlabel('k')\n",
        "plt.ylabel('Silhouette Score')\n",
        "plt.show()"
      ],
      "metadata": {
        "id": "5GAsN-dmHjRM",
        "colab": {
          "base_uri": "https://localhost:8080/",
          "height": 487
        },
        "outputId": "863088e3-b108-40be-885a-173fb21b57a6"
      },
      "execution_count": 7,
      "outputs": [
        {
          "output_type": "stream",
          "name": "stdout",
          "text": [
            "[np.float64(0.4150097488925307), np.float64(0.5155238155989122), np.float64(0.6265345233835395), np.float64(0.6611375445369994), np.float64(0.5459710483055447), np.float64(0.4509247059520141), np.float64(0.35252777761527054), np.float64(0.34863797052141854)]\n"
          ]
        },
        {
          "output_type": "display_data",
          "data": {
            "text/plain": [
              "<Figure size 640x480 with 1 Axes>"
            ],
            "image/png": "[encoded data removed]"
          },
          "metadata": {}
        }
      ]
    },
    {
      "cell_type": "markdown",
      "source": [
        "method 2 inertia value (only check total intra-cluster distance)"
      ],
      "metadata": {
        "id": "BOPpEb-DcdaI"
      }
    },
    {
      "cell_type": "markdown",
      "source": [
        "so yes k=5 best"
      ],
      "metadata": {
        "id": "tvIgqAa_Ypju"
      }
    },
    {
      "cell_type": "markdown",
      "source": [
        ">0.7 means the clusters are seperatelly.So, okay silhouette_score"
      ],
      "metadata": {
        "id": "QhdKjFsiagbh"
      }
    },
    {
      "cell_type": "code",
      "source": [
        "\n",
        "inertia_1 = []\n",
        "\n",
        "\n",
        "for n_clusters_k in range_n_clusters_k:\n",
        "    clusterer_k_2 = KMeans(n_clusters=n_clusters_k, random_state=10)\n",
        "    cluster_labels_k = clusterer_k_2.fit_predict(X)\n",
        "    inertia_1.append(clusterer_k_2.inertia_)\n",
        "\n",
        "print(inertia_1)\n",
        "plt.plot(range_n_clusters_k,inertia_1)\n",
        "plt.xlabel('k')\n",
        "plt.ylabel('inertia_ Score')\n",
        "plt.show()"
      ],
      "metadata": {
        "colab": {
          "base_uri": "https://localhost:8080/",
          "height": 467
        },
        "id": "CQeaGq-QbRgK",
        "outputId": "c27992ef-bc43-4e44-ef39-37bd86e50a67"
      },
      "execution_count": 8,
      "outputs": [
        {
          "output_type": "stream",
          "name": "stdout",
          "text": [
            "[6504.839875872424, 3836.3771369424576, 1780.4172638655577, 924.3159961688092, 892.6443542470599, 862.5921665100362, 823.7100949928089, 807.3096971848739]\n"
          ]
        },
        {
          "output_type": "display_data",
          "data": {
            "text/plain": [
              "<Figure size 640x480 with 1 Axes>"
            ],
            "image/png": "[encoded data removed]"
          },
          "metadata": {}
        }
      ]
    },
    {
      "cell_type": "code",
      "source": [],
      "metadata": {
        "id": "gDCa3o74eMB_"
      },
      "execution_count": null,
      "outputs": []
    },
    {
      "cell_type": "markdown",
      "source": [
        "Also, k=5"
      ],
      "metadata": {
        "id": "tqv13WOVc-tX"
      }
    },
    {
      "cell_type": "markdown",
      "source": [
        "In k-means, inertia value (sum of within-cluster sum of squares) is affected by init method (k-means++ gives better starting centroids), n_init (number of runs), and max_iter (convergence steps). max_iter=1 risks poor clustering.\n",
        "Note:\n",
        "Defaults in scikit-lear's KMeans:\n",
        "\n",
        "init=\"k-means++\" (better centroid seeds, avoids poor clustering).\n",
        "\n",
        "n_init=10 (run algorithm 10 times, keep best inertia).\n",
        "\n",
        "max_iter=300 (allow up to 300 updates per run)."
      ],
      "metadata": {
        "id": "rCKXx1wxZ-s6"
      }
    },
    {
      "cell_type": "markdown",
      "source": [
        "# 2. Clustering Fashion-MNIST using $k$-means"
      ],
      "metadata": {
        "id": "a2qcKggmIH8T"
      }
    },
    {
      "cell_type": "code",
      "source": [
        "import numpy as np\n",
        "from sklearn.datasets import fetch_openml\n",
        "from sklearn.preprocessing import StandardScaler\n",
        "\n",
        "# Load Fashion-MNIST from OpenML\n",
        "# Classes (0-9): T-shirt/top, Trouser, Pullover, Dress, Coat, Sandal, Shirt, Sneaker, Bag, Ankle boot\n",
        "X, y = fetch_openml(\"Fashion-MNIST\", version=1, as_frame=False, parser=\"auto\", return_X_y=True)\n",
        "y = y.astype(int)\n",
        "\n",
        "print(type(X),X.shape)\n",
        "print(type(y),y.shape)"
      ],
      "metadata": {
        "colab": {
          "base_uri": "https://localhost:8080/"
        },
        "id": "B9IQwhgcIVOl",
        "outputId": "5cc76846-93c1-492c-a1ab-6388f8300da9"
      },
      "execution_count": null,
      "outputs": [
        {
          "output_type": "stream",
          "name": "stdout",
          "text": [
            "<class 'numpy.ndarray'> (70000, 784)\n",
            "<class 'numpy.ndarray'> (70000,)\n"
          ]
        }
      ]
    },
    {
      "cell_type": "code",
      "source": [
        "# your code here"
      ],
      "metadata": {
        "id": "0REsDBunNmEl"
      },
      "execution_count": null,
      "outputs": []
    },
    {
      "cell_type": "markdown",
      "source": [
        "# 3. Dimensionality reduction for Fashion-MNIST"
      ],
      "metadata": {
        "id": "6Bpow7TrZ7iB"
      }
    },
    {
      "cell_type": "code",
      "source": [
        "# your code here"
      ],
      "metadata": {
        "id": "ejYYENCQZ9tj"
      },
      "execution_count": null,
      "outputs": []
    },
    {
      "cell_type": "markdown",
      "source": [
        "# 4. Clustering Fashion-MNIST using spectral clustering"
      ],
      "metadata": {
        "id": "fOTFcjWOfCZU"
      }
    },
    {
      "cell_type": "code",
      "source": [
        "# your code here"
      ],
      "metadata": {
        "id": "MRB_nw21fI24"
      },
      "execution_count": null,
      "outputs": []
    }
  ]
}